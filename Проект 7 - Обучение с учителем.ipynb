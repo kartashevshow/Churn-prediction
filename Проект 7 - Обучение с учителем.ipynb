{
 "cells": [
  {
   "cell_type": "markdown",
   "metadata": {
    "toc": true
   },
   "source": [
    "<h1>Содержание<span class=\"tocSkip\"></span></h1>\n",
    "<div class=\"toc\"><ul class=\"toc-item\"><li><span><a href=\"#Подготовка-данных\" data-toc-modified-id=\"Подготовка-данных-1\"><span class=\"toc-item-num\">1&nbsp;&nbsp;</span>Подготовка данных</a></span><ul class=\"toc-item\"><li><span><a href=\"#Выводы-по-подготовке-данных:\" data-toc-modified-id=\"Выводы-по-подготовке-данных:-1.1\"><span class=\"toc-item-num\">1.1&nbsp;&nbsp;</span>Выводы по подготовке данных:</a></span></li></ul></li><li><span><a href=\"#Исследование-задачи\" data-toc-modified-id=\"Исследование-задачи-2\"><span class=\"toc-item-num\">2&nbsp;&nbsp;</span>Исследование задачи</a></span></li><li><span><a href=\"#Борьба-с-дисбалансом\" data-toc-modified-id=\"Борьба-с-дисбалансом-3\"><span class=\"toc-item-num\">3&nbsp;&nbsp;</span>Борьба с дисбалансом</a></span></li><li><span><a href=\"#Исследование-моделей-на-сбалансированной-выборке\" data-toc-modified-id=\"Исследование-моделей-на-сбалансированной-выборке-4\"><span class=\"toc-item-num\">4&nbsp;&nbsp;</span>Исследование моделей на сбалансированной выборке</a></span><ul class=\"toc-item\"><li><span><a href=\"#Подбор-новых-гиперпараметров-и-проверка-метрик-качества-модели-на-upsampled---обучающей-выборке\" data-toc-modified-id=\"Подбор-новых-гиперпараметров-и-проверка-метрик-качества-модели-на-upsampled---обучающей-выборке-4.1\"><span class=\"toc-item-num\">4.1&nbsp;&nbsp;</span>Подбор новых гиперпараметров и проверка метрик качества модели на upsampled - обучающей выборке</a></span><ul class=\"toc-item\"><li><span><a href=\"#Логистическая-регрессия\" data-toc-modified-id=\"Логистическая-регрессия-4.1.1\"><span class=\"toc-item-num\">4.1.1&nbsp;&nbsp;</span>Логистическая регрессия</a></span></li><li><span><a href=\"#Случайный-лес\" data-toc-modified-id=\"Случайный-лес-4.1.2\"><span class=\"toc-item-num\">4.1.2&nbsp;&nbsp;</span>Случайный лес</a></span></li></ul></li><li><span><a href=\"#Подбор-новых-гиперпараметров-и-проверка-метрик-качества-модели-на-downsampled---обучающей-выборке\" data-toc-modified-id=\"Подбор-новых-гиперпараметров-и-проверка-метрик-качества-модели-на-downsampled---обучающей-выборке-4.2\"><span class=\"toc-item-num\">4.2&nbsp;&nbsp;</span>Подбор новых гиперпараметров и проверка метрик качества модели на downsampled - обучающей выборке</a></span><ul class=\"toc-item\"><li><span><a href=\"#Логистическая-регрессия\" data-toc-modified-id=\"Логистическая-регрессия-4.2.1\"><span class=\"toc-item-num\">4.2.1&nbsp;&nbsp;</span>Логистическая регрессия</a></span></li><li><span><a href=\"#Случайный-лес\" data-toc-modified-id=\"Случайный-лес-4.2.2\"><span class=\"toc-item-num\">4.2.2&nbsp;&nbsp;</span>Случайный лес</a></span></li></ul></li><li><span><a href=\"#Взвешаивание-классов\" data-toc-modified-id=\"Взвешаивание-классов-4.3\"><span class=\"toc-item-num\">4.3&nbsp;&nbsp;</span>Взвешаивание классов</a></span><ul class=\"toc-item\"><li><span><a href=\"#Логистическая-регрессия\" data-toc-modified-id=\"Логистическая-регрессия-4.3.1\"><span class=\"toc-item-num\">4.3.1&nbsp;&nbsp;</span>Логистическая регрессия</a></span></li></ul></li></ul></li><li><span><a href=\"#Выводы\" data-toc-modified-id=\"Выводы-5\"><span class=\"toc-item-num\">5&nbsp;&nbsp;</span>Выводы</a></span></li><li><span><a href=\"#Чек-лист-готовности-проекта\" data-toc-modified-id=\"Чек-лист-готовности-проекта-6\"><span class=\"toc-item-num\">6&nbsp;&nbsp;</span>Чек-лист готовности проекта</a></span></li></ul></div>"
   ]
  },
  {
   "cell_type": "markdown",
   "metadata": {},
   "source": [
    "# Отток клиентов"
   ]
  },
  {
   "cell_type": "markdown",
   "metadata": {},
   "source": [
    "Из «Бета-Банка» стали уходить клиенты. Каждый месяц. Немного, но заметно. Банковские маркетологи посчитали: сохранять текущих клиентов дешевле, чем привлекать новых.\n",
    "\n",
    "Нужно спрогнозировать, уйдёт клиент из банка в ближайшее время или нет. Вам предоставлены исторические данные о поведении клиентов и расторжении договоров с банком. \n",
    "\n",
    "Постройте модель с предельно большим значением *F1*-меры. Чтобы сдать проект успешно, нужно довести метрику до 0.59. Проверьте *F1*-меру на тестовой выборке самостоятельно.\n",
    "\n",
    "Дополнительно измеряйте *AUC-ROC*, сравнивайте её значение с *F1*-мерой.\n",
    "\n",
    "Источник данных: [https://www.kaggle.com/barelydedicated/bank-customer-churn-modeling](https://www.kaggle.com/barelydedicated/bank-customer-churn-modeling)"
   ]
  },
  {
   "cell_type": "markdown",
   "metadata": {},
   "source": [
    "## Подготовка данных"
   ]
  },
  {
   "cell_type": "code",
   "execution_count": 1,
   "metadata": {},
   "outputs": [],
   "source": [
    "#Импортируем библиотеки\n",
    "import pandas as pd\n",
    "import numpy as np\n",
    "import matplotlib.pyplot as plt\n",
    "import seaborn as sns\n",
    "from sklearn.model_selection import train_test_split\n",
    "from sklearn.preprocessing import StandardScaler\n",
    "from sklearn.tree import DecisionTreeClassifier\n",
    "from sklearn.ensemble import RandomForestClassifier\n",
    "from sklearn.linear_model import LogisticRegression\n",
    "from sklearn.dummy import DummyClassifier\n",
    "from sklearn.utils import shuffle\n",
    "from sklearn.metrics import (accuracy_score, \n",
    "                             recall_score, \n",
    "                             precision_score, \n",
    "                             f1_score,\n",
    "                             confusion_matrix, \n",
    "                             roc_auc_score, \n",
    "                             roc_curve)"
   ]
  },
  {
   "cell_type": "code",
   "execution_count": 2,
   "metadata": {},
   "outputs": [],
   "source": [
    "#Читаем данные\n",
    "try:\n",
    "    data = pd.read_csv('Churn.csv')\n",
    "except:\n",
    "    data = pd.read_csv('/datasets/Churn.csv')"
   ]
  },
  {
   "cell_type": "markdown",
   "metadata": {},
   "source": [
    "**Признаки**\n",
    "* `RowNumber` — индекс строки в данных\n",
    "* `CustomerId` — уникальный идентификатор клиента\n",
    "* `Surname` — фамилия\n",
    "* `CreditScore` — кредитный рейтинг\n",
    "* `Geography` — страна проживания\n",
    "* `Gender` — пол\n",
    "* `Age` — возраст\n",
    "* `Tenure` — сколько лет человек является клиентом банка\n",
    "* `Balance` — баланс на счёте\n",
    "* `NumOfProducts` — количество продуктов банка, используемых клиентом\n",
    "* `HasCrCard` — наличие кредитной карты\n",
    "* `IsActiveMember` — активность клиента\n",
    "* `EstimatedSalary` — предполагаемая зарплата\n",
    "\n",
    "**Целевой признак**\n",
    "* `Exited` — факт ухода клиента"
   ]
  },
  {
   "cell_type": "code",
   "execution_count": 3,
   "metadata": {},
   "outputs": [
    {
     "data": {
      "text/html": [
       "<div>\n",
       "<style scoped>\n",
       "    .dataframe tbody tr th:only-of-type {\n",
       "        vertical-align: middle;\n",
       "    }\n",
       "\n",
       "    .dataframe tbody tr th {\n",
       "        vertical-align: top;\n",
       "    }\n",
       "\n",
       "    .dataframe thead th {\n",
       "        text-align: right;\n",
       "    }\n",
       "</style>\n",
       "<table border=\"1\" class=\"dataframe\">\n",
       "  <thead>\n",
       "    <tr style=\"text-align: right;\">\n",
       "      <th></th>\n",
       "      <th>RowNumber</th>\n",
       "      <th>CustomerId</th>\n",
       "      <th>Surname</th>\n",
       "      <th>CreditScore</th>\n",
       "      <th>Geography</th>\n",
       "      <th>Gender</th>\n",
       "      <th>Age</th>\n",
       "      <th>Tenure</th>\n",
       "      <th>Balance</th>\n",
       "      <th>NumOfProducts</th>\n",
       "      <th>HasCrCard</th>\n",
       "      <th>IsActiveMember</th>\n",
       "      <th>EstimatedSalary</th>\n",
       "      <th>Exited</th>\n",
       "    </tr>\n",
       "  </thead>\n",
       "  <tbody>\n",
       "    <tr>\n",
       "      <th>0</th>\n",
       "      <td>1</td>\n",
       "      <td>15634602</td>\n",
       "      <td>Hargrave</td>\n",
       "      <td>619</td>\n",
       "      <td>France</td>\n",
       "      <td>Female</td>\n",
       "      <td>42</td>\n",
       "      <td>2.0</td>\n",
       "      <td>0.00</td>\n",
       "      <td>1</td>\n",
       "      <td>1</td>\n",
       "      <td>1</td>\n",
       "      <td>101348.88</td>\n",
       "      <td>1</td>\n",
       "    </tr>\n",
       "    <tr>\n",
       "      <th>1</th>\n",
       "      <td>2</td>\n",
       "      <td>15647311</td>\n",
       "      <td>Hill</td>\n",
       "      <td>608</td>\n",
       "      <td>Spain</td>\n",
       "      <td>Female</td>\n",
       "      <td>41</td>\n",
       "      <td>1.0</td>\n",
       "      <td>83807.86</td>\n",
       "      <td>1</td>\n",
       "      <td>0</td>\n",
       "      <td>1</td>\n",
       "      <td>112542.58</td>\n",
       "      <td>0</td>\n",
       "    </tr>\n",
       "    <tr>\n",
       "      <th>2</th>\n",
       "      <td>3</td>\n",
       "      <td>15619304</td>\n",
       "      <td>Onio</td>\n",
       "      <td>502</td>\n",
       "      <td>France</td>\n",
       "      <td>Female</td>\n",
       "      <td>42</td>\n",
       "      <td>8.0</td>\n",
       "      <td>159660.80</td>\n",
       "      <td>3</td>\n",
       "      <td>1</td>\n",
       "      <td>0</td>\n",
       "      <td>113931.57</td>\n",
       "      <td>1</td>\n",
       "    </tr>\n",
       "    <tr>\n",
       "      <th>3</th>\n",
       "      <td>4</td>\n",
       "      <td>15701354</td>\n",
       "      <td>Boni</td>\n",
       "      <td>699</td>\n",
       "      <td>France</td>\n",
       "      <td>Female</td>\n",
       "      <td>39</td>\n",
       "      <td>1.0</td>\n",
       "      <td>0.00</td>\n",
       "      <td>2</td>\n",
       "      <td>0</td>\n",
       "      <td>0</td>\n",
       "      <td>93826.63</td>\n",
       "      <td>0</td>\n",
       "    </tr>\n",
       "    <tr>\n",
       "      <th>4</th>\n",
       "      <td>5</td>\n",
       "      <td>15737888</td>\n",
       "      <td>Mitchell</td>\n",
       "      <td>850</td>\n",
       "      <td>Spain</td>\n",
       "      <td>Female</td>\n",
       "      <td>43</td>\n",
       "      <td>2.0</td>\n",
       "      <td>125510.82</td>\n",
       "      <td>1</td>\n",
       "      <td>1</td>\n",
       "      <td>1</td>\n",
       "      <td>79084.10</td>\n",
       "      <td>0</td>\n",
       "    </tr>\n",
       "  </tbody>\n",
       "</table>\n",
       "</div>"
      ],
      "text/plain": [
       "   RowNumber  CustomerId   Surname  CreditScore Geography  Gender  Age  \\\n",
       "0          1    15634602  Hargrave          619    France  Female   42   \n",
       "1          2    15647311      Hill          608     Spain  Female   41   \n",
       "2          3    15619304      Onio          502    France  Female   42   \n",
       "3          4    15701354      Boni          699    France  Female   39   \n",
       "4          5    15737888  Mitchell          850     Spain  Female   43   \n",
       "\n",
       "   Tenure    Balance  NumOfProducts  HasCrCard  IsActiveMember  \\\n",
       "0     2.0       0.00              1          1               1   \n",
       "1     1.0   83807.86              1          0               1   \n",
       "2     8.0  159660.80              3          1               0   \n",
       "3     1.0       0.00              2          0               0   \n",
       "4     2.0  125510.82              1          1               1   \n",
       "\n",
       "   EstimatedSalary  Exited  \n",
       "0        101348.88       1  \n",
       "1        112542.58       0  \n",
       "2        113931.57       1  \n",
       "3         93826.63       0  \n",
       "4         79084.10       0  "
      ]
     },
     "execution_count": 3,
     "metadata": {},
     "output_type": "execute_result"
    }
   ],
   "source": [
    "data.head()"
   ]
  },
  {
   "cell_type": "code",
   "execution_count": 4,
   "metadata": {},
   "outputs": [
    {
     "name": "stdout",
     "output_type": "stream",
     "text": [
      "<class 'pandas.core.frame.DataFrame'>\n",
      "RangeIndex: 10000 entries, 0 to 9999\n",
      "Data columns (total 14 columns):\n",
      " #   Column           Non-Null Count  Dtype  \n",
      "---  ------           --------------  -----  \n",
      " 0   RowNumber        10000 non-null  int64  \n",
      " 1   CustomerId       10000 non-null  int64  \n",
      " 2   Surname          10000 non-null  object \n",
      " 3   CreditScore      10000 non-null  int64  \n",
      " 4   Geography        10000 non-null  object \n",
      " 5   Gender           10000 non-null  object \n",
      " 6   Age              10000 non-null  int64  \n",
      " 7   Tenure           9091 non-null   float64\n",
      " 8   Balance          10000 non-null  float64\n",
      " 9   NumOfProducts    10000 non-null  int64  \n",
      " 10  HasCrCard        10000 non-null  int64  \n",
      " 11  IsActiveMember   10000 non-null  int64  \n",
      " 12  EstimatedSalary  10000 non-null  float64\n",
      " 13  Exited           10000 non-null  int64  \n",
      "dtypes: float64(3), int64(8), object(3)\n",
      "memory usage: 1.1+ MB\n"
     ]
    }
   ],
   "source": [
    "data.info()"
   ]
  },
  {
   "cell_type": "code",
   "execution_count": 5,
   "metadata": {},
   "outputs": [
    {
     "data": {
      "text/html": [
       "<div>\n",
       "<style scoped>\n",
       "    .dataframe tbody tr th:only-of-type {\n",
       "        vertical-align: middle;\n",
       "    }\n",
       "\n",
       "    .dataframe tbody tr th {\n",
       "        vertical-align: top;\n",
       "    }\n",
       "\n",
       "    .dataframe thead th {\n",
       "        text-align: right;\n",
       "    }\n",
       "</style>\n",
       "<table border=\"1\" class=\"dataframe\">\n",
       "  <thead>\n",
       "    <tr style=\"text-align: right;\">\n",
       "      <th></th>\n",
       "      <th>count</th>\n",
       "      <th>unique</th>\n",
       "      <th>top</th>\n",
       "      <th>freq</th>\n",
       "      <th>mean</th>\n",
       "      <th>std</th>\n",
       "      <th>min</th>\n",
       "      <th>25%</th>\n",
       "      <th>50%</th>\n",
       "      <th>75%</th>\n",
       "      <th>max</th>\n",
       "    </tr>\n",
       "  </thead>\n",
       "  <tbody>\n",
       "    <tr>\n",
       "      <th>RowNumber</th>\n",
       "      <td>10000.0</td>\n",
       "      <td>NaN</td>\n",
       "      <td>NaN</td>\n",
       "      <td>NaN</td>\n",
       "      <td>5000.5</td>\n",
       "      <td>2886.89568</td>\n",
       "      <td>1.0</td>\n",
       "      <td>2500.75</td>\n",
       "      <td>5000.5</td>\n",
       "      <td>7500.25</td>\n",
       "      <td>10000.0</td>\n",
       "    </tr>\n",
       "    <tr>\n",
       "      <th>CustomerId</th>\n",
       "      <td>10000.0</td>\n",
       "      <td>NaN</td>\n",
       "      <td>NaN</td>\n",
       "      <td>NaN</td>\n",
       "      <td>15690940.5694</td>\n",
       "      <td>71936.186123</td>\n",
       "      <td>15565701.0</td>\n",
       "      <td>15628528.25</td>\n",
       "      <td>15690738.0</td>\n",
       "      <td>15753233.75</td>\n",
       "      <td>15815690.0</td>\n",
       "    </tr>\n",
       "    <tr>\n",
       "      <th>Surname</th>\n",
       "      <td>10000</td>\n",
       "      <td>2932</td>\n",
       "      <td>Smith</td>\n",
       "      <td>32</td>\n",
       "      <td>NaN</td>\n",
       "      <td>NaN</td>\n",
       "      <td>NaN</td>\n",
       "      <td>NaN</td>\n",
       "      <td>NaN</td>\n",
       "      <td>NaN</td>\n",
       "      <td>NaN</td>\n",
       "    </tr>\n",
       "    <tr>\n",
       "      <th>CreditScore</th>\n",
       "      <td>10000.0</td>\n",
       "      <td>NaN</td>\n",
       "      <td>NaN</td>\n",
       "      <td>NaN</td>\n",
       "      <td>650.5288</td>\n",
       "      <td>96.653299</td>\n",
       "      <td>350.0</td>\n",
       "      <td>584.0</td>\n",
       "      <td>652.0</td>\n",
       "      <td>718.0</td>\n",
       "      <td>850.0</td>\n",
       "    </tr>\n",
       "    <tr>\n",
       "      <th>Geography</th>\n",
       "      <td>10000</td>\n",
       "      <td>3</td>\n",
       "      <td>France</td>\n",
       "      <td>5014</td>\n",
       "      <td>NaN</td>\n",
       "      <td>NaN</td>\n",
       "      <td>NaN</td>\n",
       "      <td>NaN</td>\n",
       "      <td>NaN</td>\n",
       "      <td>NaN</td>\n",
       "      <td>NaN</td>\n",
       "    </tr>\n",
       "    <tr>\n",
       "      <th>Gender</th>\n",
       "      <td>10000</td>\n",
       "      <td>2</td>\n",
       "      <td>Male</td>\n",
       "      <td>5457</td>\n",
       "      <td>NaN</td>\n",
       "      <td>NaN</td>\n",
       "      <td>NaN</td>\n",
       "      <td>NaN</td>\n",
       "      <td>NaN</td>\n",
       "      <td>NaN</td>\n",
       "      <td>NaN</td>\n",
       "    </tr>\n",
       "    <tr>\n",
       "      <th>Age</th>\n",
       "      <td>10000.0</td>\n",
       "      <td>NaN</td>\n",
       "      <td>NaN</td>\n",
       "      <td>NaN</td>\n",
       "      <td>38.9218</td>\n",
       "      <td>10.487806</td>\n",
       "      <td>18.0</td>\n",
       "      <td>32.0</td>\n",
       "      <td>37.0</td>\n",
       "      <td>44.0</td>\n",
       "      <td>92.0</td>\n",
       "    </tr>\n",
       "    <tr>\n",
       "      <th>Tenure</th>\n",
       "      <td>9091.0</td>\n",
       "      <td>NaN</td>\n",
       "      <td>NaN</td>\n",
       "      <td>NaN</td>\n",
       "      <td>4.99769</td>\n",
       "      <td>2.894723</td>\n",
       "      <td>0.0</td>\n",
       "      <td>2.0</td>\n",
       "      <td>5.0</td>\n",
       "      <td>7.0</td>\n",
       "      <td>10.0</td>\n",
       "    </tr>\n",
       "    <tr>\n",
       "      <th>Balance</th>\n",
       "      <td>10000.0</td>\n",
       "      <td>NaN</td>\n",
       "      <td>NaN</td>\n",
       "      <td>NaN</td>\n",
       "      <td>76485.889288</td>\n",
       "      <td>62397.405202</td>\n",
       "      <td>0.0</td>\n",
       "      <td>0.0</td>\n",
       "      <td>97198.54</td>\n",
       "      <td>127644.24</td>\n",
       "      <td>250898.09</td>\n",
       "    </tr>\n",
       "    <tr>\n",
       "      <th>NumOfProducts</th>\n",
       "      <td>10000.0</td>\n",
       "      <td>NaN</td>\n",
       "      <td>NaN</td>\n",
       "      <td>NaN</td>\n",
       "      <td>1.5302</td>\n",
       "      <td>0.581654</td>\n",
       "      <td>1.0</td>\n",
       "      <td>1.0</td>\n",
       "      <td>1.0</td>\n",
       "      <td>2.0</td>\n",
       "      <td>4.0</td>\n",
       "    </tr>\n",
       "    <tr>\n",
       "      <th>HasCrCard</th>\n",
       "      <td>10000.0</td>\n",
       "      <td>NaN</td>\n",
       "      <td>NaN</td>\n",
       "      <td>NaN</td>\n",
       "      <td>0.7055</td>\n",
       "      <td>0.45584</td>\n",
       "      <td>0.0</td>\n",
       "      <td>0.0</td>\n",
       "      <td>1.0</td>\n",
       "      <td>1.0</td>\n",
       "      <td>1.0</td>\n",
       "    </tr>\n",
       "    <tr>\n",
       "      <th>IsActiveMember</th>\n",
       "      <td>10000.0</td>\n",
       "      <td>NaN</td>\n",
       "      <td>NaN</td>\n",
       "      <td>NaN</td>\n",
       "      <td>0.5151</td>\n",
       "      <td>0.499797</td>\n",
       "      <td>0.0</td>\n",
       "      <td>0.0</td>\n",
       "      <td>1.0</td>\n",
       "      <td>1.0</td>\n",
       "      <td>1.0</td>\n",
       "    </tr>\n",
       "    <tr>\n",
       "      <th>EstimatedSalary</th>\n",
       "      <td>10000.0</td>\n",
       "      <td>NaN</td>\n",
       "      <td>NaN</td>\n",
       "      <td>NaN</td>\n",
       "      <td>100090.239881</td>\n",
       "      <td>57510.492818</td>\n",
       "      <td>11.58</td>\n",
       "      <td>51002.11</td>\n",
       "      <td>100193.915</td>\n",
       "      <td>149388.2475</td>\n",
       "      <td>199992.48</td>\n",
       "    </tr>\n",
       "    <tr>\n",
       "      <th>Exited</th>\n",
       "      <td>10000.0</td>\n",
       "      <td>NaN</td>\n",
       "      <td>NaN</td>\n",
       "      <td>NaN</td>\n",
       "      <td>0.2037</td>\n",
       "      <td>0.402769</td>\n",
       "      <td>0.0</td>\n",
       "      <td>0.0</td>\n",
       "      <td>0.0</td>\n",
       "      <td>0.0</td>\n",
       "      <td>1.0</td>\n",
       "    </tr>\n",
       "  </tbody>\n",
       "</table>\n",
       "</div>"
      ],
      "text/plain": [
       "                   count unique     top  freq           mean           std  \\\n",
       "RowNumber        10000.0    NaN     NaN   NaN         5000.5    2886.89568   \n",
       "CustomerId       10000.0    NaN     NaN   NaN  15690940.5694  71936.186123   \n",
       "Surname            10000   2932   Smith    32            NaN           NaN   \n",
       "CreditScore      10000.0    NaN     NaN   NaN       650.5288     96.653299   \n",
       "Geography          10000      3  France  5014            NaN           NaN   \n",
       "Gender             10000      2    Male  5457            NaN           NaN   \n",
       "Age              10000.0    NaN     NaN   NaN        38.9218     10.487806   \n",
       "Tenure            9091.0    NaN     NaN   NaN        4.99769      2.894723   \n",
       "Balance          10000.0    NaN     NaN   NaN   76485.889288  62397.405202   \n",
       "NumOfProducts    10000.0    NaN     NaN   NaN         1.5302      0.581654   \n",
       "HasCrCard        10000.0    NaN     NaN   NaN         0.7055       0.45584   \n",
       "IsActiveMember   10000.0    NaN     NaN   NaN         0.5151      0.499797   \n",
       "EstimatedSalary  10000.0    NaN     NaN   NaN  100090.239881  57510.492818   \n",
       "Exited           10000.0    NaN     NaN   NaN         0.2037      0.402769   \n",
       "\n",
       "                        min          25%         50%          75%         max  \n",
       "RowNumber               1.0      2500.75      5000.5      7500.25     10000.0  \n",
       "CustomerId       15565701.0  15628528.25  15690738.0  15753233.75  15815690.0  \n",
       "Surname                 NaN          NaN         NaN          NaN         NaN  \n",
       "CreditScore           350.0        584.0       652.0        718.0       850.0  \n",
       "Geography               NaN          NaN         NaN          NaN         NaN  \n",
       "Gender                  NaN          NaN         NaN          NaN         NaN  \n",
       "Age                    18.0         32.0        37.0         44.0        92.0  \n",
       "Tenure                  0.0          2.0         5.0          7.0        10.0  \n",
       "Balance                 0.0          0.0    97198.54    127644.24   250898.09  \n",
       "NumOfProducts           1.0          1.0         1.0          2.0         4.0  \n",
       "HasCrCard               0.0          0.0         1.0          1.0         1.0  \n",
       "IsActiveMember          0.0          0.0         1.0          1.0         1.0  \n",
       "EstimatedSalary       11.58     51002.11  100193.915  149388.2475   199992.48  \n",
       "Exited                  0.0          0.0         0.0          0.0         1.0  "
      ]
     },
     "execution_count": 5,
     "metadata": {},
     "output_type": "execute_result"
    }
   ],
   "source": [
    "#Видео значительный разброс данных. Потребуется привести их к одной шкале.\n",
    "data.describe(include='all').transpose()"
   ]
  },
  {
   "cell_type": "code",
   "execution_count": 6,
   "metadata": {},
   "outputs": [
    {
     "data": {
      "text/html": [
       "<div>\n",
       "<style scoped>\n",
       "    .dataframe tbody tr th:only-of-type {\n",
       "        vertical-align: middle;\n",
       "    }\n",
       "\n",
       "    .dataframe tbody tr th {\n",
       "        vertical-align: top;\n",
       "    }\n",
       "\n",
       "    .dataframe thead th {\n",
       "        text-align: right;\n",
       "    }\n",
       "</style>\n",
       "<table border=\"1\" class=\"dataframe\">\n",
       "  <thead>\n",
       "    <tr style=\"text-align: right;\">\n",
       "      <th></th>\n",
       "      <th>CreditScore</th>\n",
       "      <th>Geography</th>\n",
       "      <th>Gender</th>\n",
       "      <th>Age</th>\n",
       "      <th>Tenure</th>\n",
       "      <th>Balance</th>\n",
       "      <th>NumOfProducts</th>\n",
       "      <th>HasCrCard</th>\n",
       "      <th>IsActiveMember</th>\n",
       "      <th>EstimatedSalary</th>\n",
       "      <th>Exited</th>\n",
       "    </tr>\n",
       "  </thead>\n",
       "  <tbody>\n",
       "    <tr>\n",
       "      <th>0</th>\n",
       "      <td>619</td>\n",
       "      <td>France</td>\n",
       "      <td>Female</td>\n",
       "      <td>42</td>\n",
       "      <td>2.0</td>\n",
       "      <td>0.00</td>\n",
       "      <td>1</td>\n",
       "      <td>1</td>\n",
       "      <td>1</td>\n",
       "      <td>101348.88</td>\n",
       "      <td>1</td>\n",
       "    </tr>\n",
       "    <tr>\n",
       "      <th>1</th>\n",
       "      <td>608</td>\n",
       "      <td>Spain</td>\n",
       "      <td>Female</td>\n",
       "      <td>41</td>\n",
       "      <td>1.0</td>\n",
       "      <td>83807.86</td>\n",
       "      <td>1</td>\n",
       "      <td>0</td>\n",
       "      <td>1</td>\n",
       "      <td>112542.58</td>\n",
       "      <td>0</td>\n",
       "    </tr>\n",
       "    <tr>\n",
       "      <th>2</th>\n",
       "      <td>502</td>\n",
       "      <td>France</td>\n",
       "      <td>Female</td>\n",
       "      <td>42</td>\n",
       "      <td>8.0</td>\n",
       "      <td>159660.80</td>\n",
       "      <td>3</td>\n",
       "      <td>1</td>\n",
       "      <td>0</td>\n",
       "      <td>113931.57</td>\n",
       "      <td>1</td>\n",
       "    </tr>\n",
       "    <tr>\n",
       "      <th>3</th>\n",
       "      <td>699</td>\n",
       "      <td>France</td>\n",
       "      <td>Female</td>\n",
       "      <td>39</td>\n",
       "      <td>1.0</td>\n",
       "      <td>0.00</td>\n",
       "      <td>2</td>\n",
       "      <td>0</td>\n",
       "      <td>0</td>\n",
       "      <td>93826.63</td>\n",
       "      <td>0</td>\n",
       "    </tr>\n",
       "    <tr>\n",
       "      <th>4</th>\n",
       "      <td>850</td>\n",
       "      <td>Spain</td>\n",
       "      <td>Female</td>\n",
       "      <td>43</td>\n",
       "      <td>2.0</td>\n",
       "      <td>125510.82</td>\n",
       "      <td>1</td>\n",
       "      <td>1</td>\n",
       "      <td>1</td>\n",
       "      <td>79084.10</td>\n",
       "      <td>0</td>\n",
       "    </tr>\n",
       "  </tbody>\n",
       "</table>\n",
       "</div>"
      ],
      "text/plain": [
       "   CreditScore Geography  Gender  Age  Tenure    Balance  NumOfProducts  \\\n",
       "0          619    France  Female   42     2.0       0.00              1   \n",
       "1          608     Spain  Female   41     1.0   83807.86              1   \n",
       "2          502    France  Female   42     8.0  159660.80              3   \n",
       "3          699    France  Female   39     1.0       0.00              2   \n",
       "4          850     Spain  Female   43     2.0  125510.82              1   \n",
       "\n",
       "   HasCrCard  IsActiveMember  EstimatedSalary  Exited  \n",
       "0          1               1        101348.88       1  \n",
       "1          0               1        112542.58       0  \n",
       "2          1               0        113931.57       1  \n",
       "3          0               0         93826.63       0  \n",
       "4          1               1         79084.10       0  "
      ]
     },
     "execution_count": 6,
     "metadata": {},
     "output_type": "execute_result"
    }
   ],
   "source": [
    "#Избавимся от части категориальных колонок, которые не влияют на принятие решения о том уйдет ил клиент или нет.\n",
    "#Отбросим колонки RowNumber, CustomerId, Surname, поскольку они не несут в себе никакой важной информации о клиенте.\n",
    "#Из категориальных переменных, у нас остануются \"Geography и Gender их загодируем методом OHE\"\n",
    "data_clear = data.drop([\"RowNumber\", \"CustomerId\", \"Surname\"], axis=1)\n",
    "data_clear.head()"
   ]
  },
  {
   "cell_type": "code",
   "execution_count": 7,
   "metadata": {},
   "outputs": [
    {
     "data": {
      "text/html": [
       "<div>\n",
       "<style scoped>\n",
       "    .dataframe tbody tr th:only-of-type {\n",
       "        vertical-align: middle;\n",
       "    }\n",
       "\n",
       "    .dataframe tbody tr th {\n",
       "        vertical-align: top;\n",
       "    }\n",
       "\n",
       "    .dataframe thead th {\n",
       "        text-align: right;\n",
       "    }\n",
       "</style>\n",
       "<table border=\"1\" class=\"dataframe\">\n",
       "  <thead>\n",
       "    <tr style=\"text-align: right;\">\n",
       "      <th></th>\n",
       "      <th>CreditScore</th>\n",
       "      <th>Age</th>\n",
       "      <th>Tenure</th>\n",
       "      <th>Balance</th>\n",
       "      <th>NumOfProducts</th>\n",
       "      <th>HasCrCard</th>\n",
       "      <th>IsActiveMember</th>\n",
       "      <th>EstimatedSalary</th>\n",
       "      <th>Exited</th>\n",
       "      <th>Geography_Germany</th>\n",
       "      <th>Geography_Spain</th>\n",
       "      <th>Gender_Male</th>\n",
       "    </tr>\n",
       "  </thead>\n",
       "  <tbody>\n",
       "    <tr>\n",
       "      <th>0</th>\n",
       "      <td>619</td>\n",
       "      <td>42</td>\n",
       "      <td>2.0</td>\n",
       "      <td>0.00</td>\n",
       "      <td>1</td>\n",
       "      <td>1</td>\n",
       "      <td>1</td>\n",
       "      <td>101348.88</td>\n",
       "      <td>1</td>\n",
       "      <td>0</td>\n",
       "      <td>0</td>\n",
       "      <td>0</td>\n",
       "    </tr>\n",
       "    <tr>\n",
       "      <th>1</th>\n",
       "      <td>608</td>\n",
       "      <td>41</td>\n",
       "      <td>1.0</td>\n",
       "      <td>83807.86</td>\n",
       "      <td>1</td>\n",
       "      <td>0</td>\n",
       "      <td>1</td>\n",
       "      <td>112542.58</td>\n",
       "      <td>0</td>\n",
       "      <td>0</td>\n",
       "      <td>1</td>\n",
       "      <td>0</td>\n",
       "    </tr>\n",
       "    <tr>\n",
       "      <th>2</th>\n",
       "      <td>502</td>\n",
       "      <td>42</td>\n",
       "      <td>8.0</td>\n",
       "      <td>159660.80</td>\n",
       "      <td>3</td>\n",
       "      <td>1</td>\n",
       "      <td>0</td>\n",
       "      <td>113931.57</td>\n",
       "      <td>1</td>\n",
       "      <td>0</td>\n",
       "      <td>0</td>\n",
       "      <td>0</td>\n",
       "    </tr>\n",
       "    <tr>\n",
       "      <th>3</th>\n",
       "      <td>699</td>\n",
       "      <td>39</td>\n",
       "      <td>1.0</td>\n",
       "      <td>0.00</td>\n",
       "      <td>2</td>\n",
       "      <td>0</td>\n",
       "      <td>0</td>\n",
       "      <td>93826.63</td>\n",
       "      <td>0</td>\n",
       "      <td>0</td>\n",
       "      <td>0</td>\n",
       "      <td>0</td>\n",
       "    </tr>\n",
       "    <tr>\n",
       "      <th>4</th>\n",
       "      <td>850</td>\n",
       "      <td>43</td>\n",
       "      <td>2.0</td>\n",
       "      <td>125510.82</td>\n",
       "      <td>1</td>\n",
       "      <td>1</td>\n",
       "      <td>1</td>\n",
       "      <td>79084.10</td>\n",
       "      <td>0</td>\n",
       "      <td>0</td>\n",
       "      <td>1</td>\n",
       "      <td>0</td>\n",
       "    </tr>\n",
       "  </tbody>\n",
       "</table>\n",
       "</div>"
      ],
      "text/plain": [
       "   CreditScore  Age  Tenure    Balance  NumOfProducts  HasCrCard  \\\n",
       "0          619   42     2.0       0.00              1          1   \n",
       "1          608   41     1.0   83807.86              1          0   \n",
       "2          502   42     8.0  159660.80              3          1   \n",
       "3          699   39     1.0       0.00              2          0   \n",
       "4          850   43     2.0  125510.82              1          1   \n",
       "\n",
       "   IsActiveMember  EstimatedSalary  Exited  Geography_Germany  \\\n",
       "0               1        101348.88       1                  0   \n",
       "1               1        112542.58       0                  0   \n",
       "2               0        113931.57       1                  0   \n",
       "3               0         93826.63       0                  0   \n",
       "4               1         79084.10       0                  0   \n",
       "\n",
       "   Geography_Spain  Gender_Male  \n",
       "0                0            0  \n",
       "1                1            0  \n",
       "2                0            0  \n",
       "3                0            0  \n",
       "4                1            0  "
      ]
     },
     "execution_count": 7,
     "metadata": {},
     "output_type": "execute_result"
    }
   ],
   "source": [
    "#Отлично, категориальные переменные закодировали. Теперь нужно масштабировать переменные.\n",
    "data_ohe = pd.get_dummies(data_clear, drop_first = True)\n",
    "data_ohe.head()"
   ]
  },
  {
   "cell_type": "code",
   "execution_count": 8,
   "metadata": {},
   "outputs": [
    {
     "data": {
      "text/plain": [
       "CreditScore          0\n",
       "Age                  0\n",
       "Tenure               0\n",
       "Balance              0\n",
       "NumOfProducts        0\n",
       "HasCrCard            0\n",
       "IsActiveMember       0\n",
       "EstimatedSalary      0\n",
       "Exited               0\n",
       "Geography_Germany    0\n",
       "Geography_Spain      0\n",
       "Gender_Male          0\n",
       "dtype: int64"
      ]
     },
     "execution_count": 8,
     "metadata": {},
     "output_type": "execute_result"
    }
   ],
   "source": [
    "#Посмотрим как дела с пропусками\n",
    "data_ohe.isna().sum()\n",
    "#Пропуски присутствуют в переменной Tenure, она показывает сколько лет человек является клиентом банка.\n",
    "#Полагаю, что пропуск тут  означает, что человек является клиентом меньше 1 года. \n",
    "#Замена пропусков на еденицы, думаю, не повлияет на точность предсказания. Однако сама идея, \n",
    "#что мы придумываем данные, чтобы делать прогнозы на их основе мне кажется не очень хорошей историей. К тому же пропусков ~9%.\n",
    "#Короче, удаляем пропуски :)\n",
    "data_ohe = data_ohe.dropna(subset=['Tenure'])\n",
    "data_ohe.isna().sum()"
   ]
  },
  {
   "cell_type": "code",
   "execution_count": 9,
   "metadata": {},
   "outputs": [
    {
     "name": "stdout",
     "output_type": "stream",
     "text": [
      "Размер исходного набора данных: 9091, доля 1: 20.39, доля 0: 79.61\n",
      "Размер тренировочного набора данных: 5454, доля 1: 20.39, доля 0: 79.61\n",
      "Размер валидационного набора данных: 1819, доля 1: 20.4, доля 0: 79.6\n",
      "Размер тестового набора данных: 1818, доля 1: 20.41, доля 0: 79.59\n"
     ]
    }
   ],
   "source": [
    "features = data_ohe.drop(['Exited'], axis = 1) \n",
    "target = data_ohe['Exited']\n",
    "\n",
    "#Разделим данные на тренировочную, тестовую выборку. Укажем параметр stratify, чтобы распределнние таргета было +- \n",
    "#одинаковым в тренировочном и тестовом наборе \n",
    "features_train, features_test, target_train, target_test = train_test_split(features, target, test_size=0.4, \n",
    "                                                                            random_state=42, stratify = target)\n",
    "#Тестовую выборку разделим на тестовую и валидационную\n",
    "features_test, features_valid, target_test, target_valid  = train_test_split(features_test, target_test, test_size=0.5, \n",
    "                                                                             random_state=42, stratify = target_test)\n",
    "ones = round(len(target[target == 1])/len(target)*100, 2)\n",
    "zeros = round(len(target[target == 0])/len(target)*100, 2)\n",
    "\n",
    "ones_train = round(len(target_train[target_train == 1])/len(target_train)*100, 2)\n",
    "zeros_train = round(len(target_train[target_train == 0])/len(target_train)*100, 2)\n",
    "\n",
    "ones_valid = round(len(target_valid[target_valid == 1])/len(target_valid)*100, 2)\n",
    "zeros_valid = round(len(target_valid[target_valid == 0])/len(target_valid)*100, 2)\n",
    "\n",
    "ones_test = round(len(target_test[target_test == 1])/len(target_test)*100, 2)\n",
    "zeros_test = round(len(target_test[target_test == 0])/len(target_test)*100, 2)\n",
    "\n",
    "#Проверим размеры выборок и распределение таргета в них\n",
    "print(f'Размер исходного набора данных: {len(features)}, доля 1: {ones}, доля 0: {zeros}')\n",
    "print(f'Размер тренировочного набора данных: {len(features_train)}, доля 1: {ones_train}, доля 0: {zeros_train}')\n",
    "print(f'Размер валидационного набора данных: {len(features_valid)}, доля 1: {ones_valid}, доля 0: {zeros_valid}')\n",
    "print(f'Размер тестового набора данных: {len(features_test)}, доля 1: {ones_test}, доля 0: {zeros_test}')\n",
    "\n",
    "#Выборки разбиты в нужном соотношении, распределение таргета во всех  трех выборках соответствует распределению в исходном наборе данных."
   ]
  },
  {
   "cell_type": "code",
   "execution_count": 10,
   "metadata": {},
   "outputs": [
    {
     "data": {
      "text/plain": [
       "StandardScaler()"
      ]
     },
     "execution_count": 10,
     "metadata": {},
     "output_type": "execute_result"
    }
   ],
   "source": [
    "#Масштабируем признаки во всех выборках:\n",
    "scaler = StandardScaler()\n",
    "numeric = ['CreditScore', 'Age', 'Tenure', 'Balance', 'NumOfProducts', 'EstimatedSalary']\n",
    "scaler.fit(features_train[numeric])"
   ]
  },
  {
   "cell_type": "code",
   "execution_count": 11,
   "metadata": {},
   "outputs": [
    {
     "data": {
      "text/html": [
       "<div>\n",
       "<style scoped>\n",
       "    .dataframe tbody tr th:only-of-type {\n",
       "        vertical-align: middle;\n",
       "    }\n",
       "\n",
       "    .dataframe tbody tr th {\n",
       "        vertical-align: top;\n",
       "    }\n",
       "\n",
       "    .dataframe thead th {\n",
       "        text-align: right;\n",
       "    }\n",
       "</style>\n",
       "<table border=\"1\" class=\"dataframe\">\n",
       "  <thead>\n",
       "    <tr style=\"text-align: right;\">\n",
       "      <th></th>\n",
       "      <th>CreditScore</th>\n",
       "      <th>Age</th>\n",
       "      <th>Tenure</th>\n",
       "      <th>Balance</th>\n",
       "      <th>NumOfProducts</th>\n",
       "      <th>HasCrCard</th>\n",
       "      <th>IsActiveMember</th>\n",
       "      <th>EstimatedSalary</th>\n",
       "      <th>Geography_Germany</th>\n",
       "      <th>Geography_Spain</th>\n",
       "      <th>Gender_Male</th>\n",
       "    </tr>\n",
       "  </thead>\n",
       "  <tbody>\n",
       "    <tr>\n",
       "      <th>3228</th>\n",
       "      <td>-0.689347</td>\n",
       "      <td>-0.944503</td>\n",
       "      <td>1.737181</td>\n",
       "      <td>-1.223083</td>\n",
       "      <td>0.813512</td>\n",
       "      <td>1</td>\n",
       "      <td>1</td>\n",
       "      <td>0.194467</td>\n",
       "      <td>0</td>\n",
       "      <td>0</td>\n",
       "      <td>0</td>\n",
       "    </tr>\n",
       "    <tr>\n",
       "      <th>3741</th>\n",
       "      <td>0.913235</td>\n",
       "      <td>-0.944503</td>\n",
       "      <td>1.391431</td>\n",
       "      <td>1.004114</td>\n",
       "      <td>-0.918297</td>\n",
       "      <td>1</td>\n",
       "      <td>0</td>\n",
       "      <td>0.725671</td>\n",
       "      <td>1</td>\n",
       "      <td>0</td>\n",
       "      <td>0</td>\n",
       "    </tr>\n",
       "    <tr>\n",
       "      <th>8763</th>\n",
       "      <td>0.799504</td>\n",
       "      <td>2.116464</td>\n",
       "      <td>-1.720318</td>\n",
       "      <td>0.829721</td>\n",
       "      <td>0.813512</td>\n",
       "      <td>1</td>\n",
       "      <td>1</td>\n",
       "      <td>1.539459</td>\n",
       "      <td>0</td>\n",
       "      <td>0</td>\n",
       "      <td>1</td>\n",
       "    </tr>\n",
       "    <tr>\n",
       "      <th>4127</th>\n",
       "      <td>0.644415</td>\n",
       "      <td>1.255567</td>\n",
       "      <td>1.391431</td>\n",
       "      <td>-1.223083</td>\n",
       "      <td>-0.918297</td>\n",
       "      <td>1</td>\n",
       "      <td>1</td>\n",
       "      <td>0.310683</td>\n",
       "      <td>0</td>\n",
       "      <td>1</td>\n",
       "      <td>1</td>\n",
       "    </tr>\n",
       "    <tr>\n",
       "      <th>8751</th>\n",
       "      <td>-0.772061</td>\n",
       "      <td>-0.848848</td>\n",
       "      <td>1.045681</td>\n",
       "      <td>-1.223083</td>\n",
       "      <td>0.813512</td>\n",
       "      <td>1</td>\n",
       "      <td>0</td>\n",
       "      <td>1.480628</td>\n",
       "      <td>0</td>\n",
       "      <td>1</td>\n",
       "      <td>0</td>\n",
       "    </tr>\n",
       "  </tbody>\n",
       "</table>\n",
       "</div>"
      ],
      "text/plain": [
       "      CreditScore       Age    Tenure   Balance  NumOfProducts  HasCrCard  \\\n",
       "3228    -0.689347 -0.944503  1.737181 -1.223083       0.813512          1   \n",
       "3741     0.913235 -0.944503  1.391431  1.004114      -0.918297          1   \n",
       "8763     0.799504  2.116464 -1.720318  0.829721       0.813512          1   \n",
       "4127     0.644415  1.255567  1.391431 -1.223083      -0.918297          1   \n",
       "8751    -0.772061 -0.848848  1.045681 -1.223083       0.813512          1   \n",
       "\n",
       "      IsActiveMember  EstimatedSalary  Geography_Germany  Geography_Spain  \\\n",
       "3228               1         0.194467                  0                0   \n",
       "3741               0         0.725671                  1                0   \n",
       "8763               1         1.539459                  0                0   \n",
       "4127               1         0.310683                  0                1   \n",
       "8751               0         1.480628                  0                1   \n",
       "\n",
       "      Gender_Male  \n",
       "3228            0  \n",
       "3741            0  \n",
       "8763            1  \n",
       "4127            1  \n",
       "8751            0  "
      ]
     },
     "execution_count": 11,
     "metadata": {},
     "output_type": "execute_result"
    }
   ],
   "source": [
    "#Масштабируем обучающий набор данных\n",
    "features_train[numeric] = scaler.transform(features_train[numeric])\n",
    "features_train.head()"
   ]
  },
  {
   "cell_type": "code",
   "execution_count": 12,
   "metadata": {},
   "outputs": [
    {
     "data": {
      "text/html": [
       "<div>\n",
       "<style scoped>\n",
       "    .dataframe tbody tr th:only-of-type {\n",
       "        vertical-align: middle;\n",
       "    }\n",
       "\n",
       "    .dataframe tbody tr th {\n",
       "        vertical-align: top;\n",
       "    }\n",
       "\n",
       "    .dataframe thead th {\n",
       "        text-align: right;\n",
       "    }\n",
       "</style>\n",
       "<table border=\"1\" class=\"dataframe\">\n",
       "  <thead>\n",
       "    <tr style=\"text-align: right;\">\n",
       "      <th></th>\n",
       "      <th>CreditScore</th>\n",
       "      <th>Age</th>\n",
       "      <th>Tenure</th>\n",
       "      <th>Balance</th>\n",
       "      <th>NumOfProducts</th>\n",
       "      <th>HasCrCard</th>\n",
       "      <th>IsActiveMember</th>\n",
       "      <th>EstimatedSalary</th>\n",
       "      <th>Geography_Germany</th>\n",
       "      <th>Geography_Spain</th>\n",
       "      <th>Gender_Male</th>\n",
       "    </tr>\n",
       "  </thead>\n",
       "  <tbody>\n",
       "    <tr>\n",
       "      <th>2285</th>\n",
       "      <td>-0.203403</td>\n",
       "      <td>1.064257</td>\n",
       "      <td>-0.683068</td>\n",
       "      <td>0.848244</td>\n",
       "      <td>4.277129</td>\n",
       "      <td>1</td>\n",
       "      <td>1</td>\n",
       "      <td>-0.908549</td>\n",
       "      <td>1</td>\n",
       "      <td>0</td>\n",
       "      <td>1</td>\n",
       "    </tr>\n",
       "    <tr>\n",
       "      <th>9729</th>\n",
       "      <td>0.013721</td>\n",
       "      <td>-1.518435</td>\n",
       "      <td>1.737181</td>\n",
       "      <td>-1.223083</td>\n",
       "      <td>0.813512</td>\n",
       "      <td>1</td>\n",
       "      <td>1</td>\n",
       "      <td>1.215906</td>\n",
       "      <td>0</td>\n",
       "      <td>0</td>\n",
       "      <td>1</td>\n",
       "    </tr>\n",
       "    <tr>\n",
       "      <th>7488</th>\n",
       "      <td>-1.154613</td>\n",
       "      <td>0.299015</td>\n",
       "      <td>-0.337319</td>\n",
       "      <td>0.063866</td>\n",
       "      <td>-0.918297</td>\n",
       "      <td>1</td>\n",
       "      <td>0</td>\n",
       "      <td>0.332201</td>\n",
       "      <td>1</td>\n",
       "      <td>0</td>\n",
       "      <td>0</td>\n",
       "    </tr>\n",
       "    <tr>\n",
       "      <th>865</th>\n",
       "      <td>0.292881</td>\n",
       "      <td>-1.327124</td>\n",
       "      <td>1.737181</td>\n",
       "      <td>0.009236</td>\n",
       "      <td>0.813512</td>\n",
       "      <td>0</td>\n",
       "      <td>1</td>\n",
       "      <td>0.545565</td>\n",
       "      <td>1</td>\n",
       "      <td>0</td>\n",
       "      <td>0</td>\n",
       "    </tr>\n",
       "    <tr>\n",
       "      <th>1227</th>\n",
       "      <td>-0.958168</td>\n",
       "      <td>-1.040159</td>\n",
       "      <td>0.699931</td>\n",
       "      <td>1.121617</td>\n",
       "      <td>0.813512</td>\n",
       "      <td>1</td>\n",
       "      <td>0</td>\n",
       "      <td>1.462845</td>\n",
       "      <td>0</td>\n",
       "      <td>0</td>\n",
       "      <td>0</td>\n",
       "    </tr>\n",
       "  </tbody>\n",
       "</table>\n",
       "</div>"
      ],
      "text/plain": [
       "      CreditScore       Age    Tenure   Balance  NumOfProducts  HasCrCard  \\\n",
       "2285    -0.203403  1.064257 -0.683068  0.848244       4.277129          1   \n",
       "9729     0.013721 -1.518435  1.737181 -1.223083       0.813512          1   \n",
       "7488    -1.154613  0.299015 -0.337319  0.063866      -0.918297          1   \n",
       "865      0.292881 -1.327124  1.737181  0.009236       0.813512          0   \n",
       "1227    -0.958168 -1.040159  0.699931  1.121617       0.813512          1   \n",
       "\n",
       "      IsActiveMember  EstimatedSalary  Geography_Germany  Geography_Spain  \\\n",
       "2285               1        -0.908549                  1                0   \n",
       "9729               1         1.215906                  0                0   \n",
       "7488               0         0.332201                  1                0   \n",
       "865                1         0.545565                  1                0   \n",
       "1227               0         1.462845                  0                0   \n",
       "\n",
       "      Gender_Male  \n",
       "2285            1  \n",
       "9729            1  \n",
       "7488            0  \n",
       "865             0  \n",
       "1227            0  "
      ]
     },
     "execution_count": 12,
     "metadata": {},
     "output_type": "execute_result"
    }
   ],
   "source": [
    "#Масштабируем валидационный набор данных\n",
    "features_valid[numeric] = scaler.transform(features_valid[numeric])\n",
    "features_valid.head()"
   ]
  },
  {
   "cell_type": "code",
   "execution_count": 13,
   "metadata": {},
   "outputs": [
    {
     "data": {
      "text/html": [
       "<div>\n",
       "<style scoped>\n",
       "    .dataframe tbody tr th:only-of-type {\n",
       "        vertical-align: middle;\n",
       "    }\n",
       "\n",
       "    .dataframe tbody tr th {\n",
       "        vertical-align: top;\n",
       "    }\n",
       "\n",
       "    .dataframe thead th {\n",
       "        text-align: right;\n",
       "    }\n",
       "</style>\n",
       "<table border=\"1\" class=\"dataframe\">\n",
       "  <thead>\n",
       "    <tr style=\"text-align: right;\">\n",
       "      <th></th>\n",
       "      <th>CreditScore</th>\n",
       "      <th>Age</th>\n",
       "      <th>Tenure</th>\n",
       "      <th>Balance</th>\n",
       "      <th>NumOfProducts</th>\n",
       "      <th>HasCrCard</th>\n",
       "      <th>IsActiveMember</th>\n",
       "      <th>EstimatedSalary</th>\n",
       "      <th>Geography_Germany</th>\n",
       "      <th>Geography_Spain</th>\n",
       "      <th>Gender_Male</th>\n",
       "    </tr>\n",
       "  </thead>\n",
       "  <tbody>\n",
       "    <tr>\n",
       "      <th>3571</th>\n",
       "      <td>0.148131</td>\n",
       "      <td>-0.274917</td>\n",
       "      <td>0.354181</td>\n",
       "      <td>-0.084033</td>\n",
       "      <td>0.813512</td>\n",
       "      <td>1</td>\n",
       "      <td>0</td>\n",
       "      <td>0.388066</td>\n",
       "      <td>1</td>\n",
       "      <td>0</td>\n",
       "      <td>1</td>\n",
       "    </tr>\n",
       "    <tr>\n",
       "      <th>2208</th>\n",
       "      <td>0.809843</td>\n",
       "      <td>0.681636</td>\n",
       "      <td>-1.028818</td>\n",
       "      <td>0.533386</td>\n",
       "      <td>-0.918297</td>\n",
       "      <td>1</td>\n",
       "      <td>0</td>\n",
       "      <td>-1.386128</td>\n",
       "      <td>0</td>\n",
       "      <td>0</td>\n",
       "      <td>0</td>\n",
       "    </tr>\n",
       "    <tr>\n",
       "      <th>4956</th>\n",
       "      <td>0.106774</td>\n",
       "      <td>-0.561882</td>\n",
       "      <td>-1.028818</td>\n",
       "      <td>0.065179</td>\n",
       "      <td>-0.918297</td>\n",
       "      <td>0</td>\n",
       "      <td>0</td>\n",
       "      <td>0.874168</td>\n",
       "      <td>0</td>\n",
       "      <td>1</td>\n",
       "      <td>1</td>\n",
       "    </tr>\n",
       "    <tr>\n",
       "      <th>4881</th>\n",
       "      <td>-0.730704</td>\n",
       "      <td>-0.753193</td>\n",
       "      <td>0.354181</td>\n",
       "      <td>-1.223083</td>\n",
       "      <td>0.813512</td>\n",
       "      <td>1</td>\n",
       "      <td>0</td>\n",
       "      <td>-1.284140</td>\n",
       "      <td>0</td>\n",
       "      <td>0</td>\n",
       "      <td>1</td>\n",
       "    </tr>\n",
       "    <tr>\n",
       "      <th>1862</th>\n",
       "      <td>-1.743950</td>\n",
       "      <td>0.490325</td>\n",
       "      <td>1.391431</td>\n",
       "      <td>1.583653</td>\n",
       "      <td>-0.918297</td>\n",
       "      <td>1</td>\n",
       "      <td>0</td>\n",
       "      <td>-0.600708</td>\n",
       "      <td>0</td>\n",
       "      <td>0</td>\n",
       "      <td>1</td>\n",
       "    </tr>\n",
       "  </tbody>\n",
       "</table>\n",
       "</div>"
      ],
      "text/plain": [
       "      CreditScore       Age    Tenure   Balance  NumOfProducts  HasCrCard  \\\n",
       "3571     0.148131 -0.274917  0.354181 -0.084033       0.813512          1   \n",
       "2208     0.809843  0.681636 -1.028818  0.533386      -0.918297          1   \n",
       "4956     0.106774 -0.561882 -1.028818  0.065179      -0.918297          0   \n",
       "4881    -0.730704 -0.753193  0.354181 -1.223083       0.813512          1   \n",
       "1862    -1.743950  0.490325  1.391431  1.583653      -0.918297          1   \n",
       "\n",
       "      IsActiveMember  EstimatedSalary  Geography_Germany  Geography_Spain  \\\n",
       "3571               0         0.388066                  1                0   \n",
       "2208               0        -1.386128                  0                0   \n",
       "4956               0         0.874168                  0                1   \n",
       "4881               0        -1.284140                  0                0   \n",
       "1862               0        -0.600708                  0                0   \n",
       "\n",
       "      Gender_Male  \n",
       "3571            1  \n",
       "2208            0  \n",
       "4956            1  \n",
       "4881            1  \n",
       "1862            1  "
      ]
     },
     "execution_count": 13,
     "metadata": {},
     "output_type": "execute_result"
    }
   ],
   "source": [
    "#Масштабируем тестовый набор данных\n",
    "features_test[numeric] = scaler.transform(features_test[numeric])\n",
    "features_test.head()"
   ]
  },
  {
   "cell_type": "markdown",
   "metadata": {},
   "source": [
    "### Выводы по подготовке данных:\n",
    "Исследован исходный набор данных.\n",
    "\n",
    "Отброшены колонки, не играющие роль в принятии решения об уходе клиента из банка. Все категориальные переменные закодированы методом One-Hot Encoding. \n",
    "\n",
    "Данные разбиты на 3 выборки: обучающую, валидационную и тестовую в соотношении 3:1:1. Распределение целевой переменной одинаково во всех трех выборках.\n",
    "\n",
    "В исходном наборе данных наблюдается значительный разброс численных переменных. Для корректного обучения модели, все численные переменные приведены к одному масштабу во всех трех выборках."
   ]
  },
  {
   "cell_type": "markdown",
   "metadata": {},
   "source": [
    "## Исследование задачи"
   ]
  },
  {
   "cell_type": "code",
   "execution_count": 14,
   "metadata": {},
   "outputs": [
    {
     "name": "stdout",
     "output_type": "stream",
     "text": [
      "Доля объектов положительного класса: 0.2037, доля объектов отрицательного класса: 0.7963\n"
     ]
    }
   ],
   "source": [
    "#Проверим насколько сбалансированы классы в целевой переменной.\n",
    "pdata = len(data_clear.loc[data_clear['Exited'] == 1, ['Exited']])\n",
    "fdata = len(data_clear.loc[data_clear['Exited'] == 0, ['Exited']])\n",
    "print(f'Доля объектов положительного класса: {pdata/len(data)}, доля объектов отрицательного класса: {fdata/len(data)}')"
   ]
  },
  {
   "cell_type": "code",
   "execution_count": 15,
   "metadata": {},
   "outputs": [
    {
     "name": "stdout",
     "output_type": "stream",
     "text": [
      "Лучшее качество модели: 0.3175803402646503, Accuracy при этом - 0.8015393073117097, соответствующее количество итераций: 100\n",
      "CPU times: total: 2.52 s\n",
      "Wall time: 2.56 s\n"
     ]
    }
   ],
   "source": [
    "%%time\n",
    "#Обучим модели на имеющемся распределении таргета, подберем лучшие гиперпараметры. \n",
    "#Так как Accuracy как метрика качества модели в данном случае не подходит из-за дисбаланса в таргете, \n",
    "#то будем ориентироваться на F1-score, ну и accuracy выведем за компанию.\n",
    "#Логистическая регрессися\n",
    "best_iter = 0\n",
    "accuracy_log = 0\n",
    "best_f1_log = 0\n",
    "\n",
    "for iter in range(100,200):\n",
    "    model = LogisticRegression(solver = 'liblinear', random_state=42, max_iter=iter)\n",
    "    model.fit(features_train, target_train)\n",
    "    predictions = model.predict(features_valid)\n",
    "    accuracy = accuracy_score(target_valid, predictions)\n",
    "    f1 = f1_score(target_valid, predictions)\n",
    "    if f1 > best_f1_log:\n",
    "        best_f1_log = f1 \n",
    "        best_iter = iter\n",
    "        accuracy_log = accuracy\n",
    "    #print(f' F1 - score = {f1}, Accuracy = {accuracy}, iter = {iter}')\n",
    "print(f'Лучшее качество модели: {best_f1_log}, Accuracy при этом - {accuracy_log}, соответствующее количество итераций: {best_iter}')"
   ]
  },
  {
   "cell_type": "code",
   "execution_count": 16,
   "metadata": {},
   "outputs": [],
   "source": [
    "#Запишем параметры лучшей модели\n",
    "LR = LogisticRegression(solver = 'liblinear', random_state=42, max_iter=100)"
   ]
  },
  {
   "cell_type": "code",
   "execution_count": 17,
   "metadata": {},
   "outputs": [
    {
     "data": {
      "text/plain": [
       "0    0.913139\n",
       "1    0.086861\n",
       "dtype: float64"
      ]
     },
     "execution_count": 17,
     "metadata": {},
     "output_type": "execute_result"
    }
   ],
   "source": [
    "#Прикол, чето от количества итерацй качество модели у нас не меняется. Посмотрим что она вообще предсказвает\n",
    "pd.Series(predictions).value_counts(normalize = 1)\n",
    "#Логистическая регрессия почти всегда предсказывает 0. Причина в том, что таргет не сбалансирован (Наверное)))"
   ]
  },
  {
   "cell_type": "code",
   "execution_count": 18,
   "metadata": {},
   "outputs": [
    {
     "name": "stdout",
     "output_type": "stream",
     "text": [
      "Точность модели - 0.5905383360522023, accuracy при этом - 0.8609125893347993, соответствующая глубина 25\n",
      "Точность модели - 0.5984,  Accuracy при этом - 0.8620120945574491, соответствующее ей количество деревьев 55\n",
      "CPU times: total: 2min 3s\n",
      "Wall time: 2min 6s\n"
     ]
    }
   ],
   "source": [
    "%%time\n",
    "#Случайный лес\n",
    "best_estim_forest = 0\n",
    "best_depth_forest = 0\n",
    "accuracy_forest = 0\n",
    "best_f1_forest = 0\n",
    "\n",
    "for depth in range(1, 51):\n",
    "    model = RandomForestClassifier(random_state=42, max_depth = depth, n_estimators=50)\n",
    "    model.fit(features_train, target_train)\n",
    "    predictions = model.predict(features_valid)\n",
    "    accuracy = accuracy_score(target_valid, predictions)\n",
    "    f1 = f1_score(target_valid, predictions)\n",
    "    if f1 > best_f1_forest:\n",
    "        best_f1_forest = f1\n",
    "        accuracy_forest = accuracy\n",
    "        best_depth_forest = depth\n",
    "print(f'Точность модели - {best_f1_forest}, accuracy при этом - {accuracy}, соответствующая глубина {best_depth_forest}')\n",
    "\n",
    "for est in range(1, 100):\n",
    "    model = RandomForestClassifier(random_state=42, max_depth = 23, n_estimators=est)\n",
    "    model.fit(features_train, target_train)\n",
    "    predictions = model.predict(features_valid)\n",
    "    accuracy = accuracy_score(target_valid, predictions)\n",
    "    f1 = f1_score(target_valid, predictions)\n",
    "    if f1 > best_f1_forest:\n",
    "        best_f1_forest = f1\n",
    "        accuracy_forest = accuracy\n",
    "        best_estim_forest = est\n",
    "#    print(f'F1 = {f1}, Accuracy = {accuracy}, est = {est}')\n",
    "\n",
    "print(f'Точность модели - {best_f1_forest},  Accuracy при этом - {accuracy_forest}, соответствующее ей количество деревьев {best_estim_forest}')"
   ]
  },
  {
   "cell_type": "code",
   "execution_count": 103,
   "metadata": {},
   "outputs": [],
   "source": [
    "RFC = RandomForestClassifier(random_state=42, max_depth = 25, n_estimators=55)"
   ]
  },
  {
   "cell_type": "code",
   "execution_count": 20,
   "metadata": {},
   "outputs": [
    {
     "name": "stdout",
     "output_type": "stream",
     "text": [
      "Качество прогноза при прогнозировании наиболее часто встречаемого признака: 0.7959295929592959\n",
      "Качество прогноза логистической регрессии: 0.3175803402646503\n",
      "Качество прогноза случайного леса: 0.5984\n"
     ]
    }
   ],
   "source": [
    "#Сравним точность настроенных моделей с точностью константной модели предсказания\n",
    "dmb_model = DummyClassifier(strategy='most_frequent', random_state=42)\n",
    "dmb_model.fit(features_train, target_train)\n",
    "dmb_accucacy = dmb_model.score(features_test, target_test)\n",
    "print(\"Качество прогноза при прогнозировании наиболее часто встречаемого признака:\", dmb_accucacy)\n",
    "print(\"Качество прогноза логистической регрессии:\", best_f1_log)\n",
    "print(\"Качество прогноза случайного леса:\", best_f1_forest)\n",
    "\n",
    "#Получили качество прогноза при присваивании целевой переменной самог очастовстречаемого признака выше, чем в обученных моделях.\n",
    "#Думаю, что проблема в том, что из - за того, что таргет не сбалансирован, модели чаще предсказывают тот класс, который встречается чаще всего\n",
    "#Попробуем разобраться точнее и всглянем на матрицу ошибок"
   ]
  },
  {
   "cell_type": "code",
   "execution_count": 21,
   "metadata": {},
   "outputs": [
    {
     "data": {
      "text/plain": [
       "array([[1374,   74],\n",
       "       [ 287,   84]], dtype=int64)"
      ]
     },
     "execution_count": 21,
     "metadata": {},
     "output_type": "execute_result"
    }
   ],
   "source": [
    "#Логистическая регрессия\n",
    "LR.fit(features_train, target_train)\n",
    "LR_pred = LR.predict(features_valid)\n",
    "confusion_matrix(target_valid, LR_pred)\n",
    "\n",
    "#Видно, что TP ответов больше всего. Это логично, тк модель в 90% случаев предсказывает 0. Но FN и FP тоже не мало. \n",
    "#Причем модель склонна чаще предсказывать ложнополодительные ответы, причиной этому является дисбаланс классов: \n",
    "#На 0 модель обучилась хорошо, а на 1 значительно хуже"
   ]
  },
  {
   "cell_type": "code",
   "execution_count": 22,
   "metadata": {},
   "outputs": [
    {
     "data": {
      "text/plain": [
       "0.7576320531339815"
      ]
     },
     "execution_count": 22,
     "metadata": {},
     "output_type": "execute_result"
    }
   ],
   "source": [
    "#Расчитаем метрику ROC_AUC для логистической регрессии\n",
    "LR_prob_ones = LR.predict_proba(features_valid)[:, 1]\n",
    "LR_auc_roc_before = roc_auc_score(target_valid, LR_prob_ones)\n",
    "LR_auc_roc_before"
   ]
  },
  {
   "cell_type": "code",
   "execution_count": 23,
   "metadata": {},
   "outputs": [
    {
     "data": {
      "image/png": "[encoded data removed]",
      "text/plain": [
       "<Figure size 1440x576 with 1 Axes>"
      ]
     },
     "metadata": {
      "needs_background": "light"
     },
     "output_type": "display_data"
    }
   ],
   "source": [
    "#ROC - кривая логистической регрессии\n",
    "fpr, tpr, thresholds = roc_curve(target_valid, LR_prob_ones) \n",
    "\n",
    "plt.figure(figsize=(20,8))\n",
    "plt.plot(fpr, tpr)\n",
    "plt.plot([0, 1], [0, 1], linestyle='--')\n",
    "plt.xlim([0.0, 1.0])\n",
    "plt.ylim([0.0, 1.0])\n",
    "plt.xlabel('False Positive Rate')\n",
    "plt.ylabel('True Positive Rate')\n",
    "plt.title('ROC-кривая логистической регресии')\n",
    "plt.show()"
   ]
  },
  {
   "cell_type": "code",
   "execution_count": 104,
   "metadata": {},
   "outputs": [
    {
     "data": {
      "text/plain": [
       "array([[1379,   69],\n",
       "       [ 189,  182]], dtype=int64)"
      ]
     },
     "execution_count": 104,
     "metadata": {},
     "output_type": "execute_result"
    }
   ],
   "source": [
    "#Случайный лес\n",
    "RFC.fit(features_train, target_train)\n",
    "RFC_pred = RFC.predict(features_valid)\n",
    "confusion_matrix(target_valid, RFC_pred)\n",
    "\n",
    "#Для случайного леса ситуация аналогична. Требуется исправить дисбаланс классов в таргете."
   ]
  },
  {
   "cell_type": "code",
   "execution_count": 105,
   "metadata": {},
   "outputs": [
    {
     "data": {
      "text/plain": [
       "0.8360616372057006"
      ]
     },
     "execution_count": 105,
     "metadata": {},
     "output_type": "execute_result"
    }
   ],
   "source": [
    "#Расчитаем метрику ROC_AUC для случайного леса\n",
    "RFC_prob_ones = RFC.predict_proba(features_valid)[:, 1]\n",
    "RFC_auc_roc_before = roc_auc_score(target_valid, RFC_prob_ones)\n",
    "RFC_auc_roc_before"
   ]
  },
  {
   "cell_type": "code",
   "execution_count": 26,
   "metadata": {},
   "outputs": [
    {
     "data": {
      "image/png": "[encoded data removed]",
      "text/plain": [
       "<Figure size 1440x576 with 1 Axes>"
      ]
     },
     "metadata": {
      "needs_background": "light"
     },
     "output_type": "display_data"
    }
   ],
   "source": [
    "#ROC - кривая случайного леса\n",
    "fpr, tpr, thresholds = roc_curve(target_valid, RFC_prob_ones) \n",
    "\n",
    "plt.figure(figsize=(20,8))\n",
    "plt.plot(fpr, tpr)\n",
    "plt.plot([0, 1], [0, 1], linestyle='--')\n",
    "plt.xlim([0.0, 1.0])\n",
    "plt.ylim([0.0, 1.0])\n",
    "plt.xlabel('False Positive Rate')\n",
    "plt.ylabel('True Positive Rate')\n",
    "plt.title('ROC-кривая логистической регресии')\n",
    "plt.show()"
   ]
  },
  {
   "cell_type": "code",
   "execution_count": 106,
   "metadata": {},
   "outputs": [
    {
     "data": {
      "text/html": [
       "<div>\n",
       "<style scoped>\n",
       "    .dataframe tbody tr th:only-of-type {\n",
       "        vertical-align: middle;\n",
       "    }\n",
       "\n",
       "    .dataframe tbody tr th {\n",
       "        vertical-align: top;\n",
       "    }\n",
       "\n",
       "    .dataframe thead th {\n",
       "        text-align: right;\n",
       "    }\n",
       "</style>\n",
       "<table border=\"1\" class=\"dataframe\">\n",
       "  <thead>\n",
       "    <tr style=\"text-align: right;\">\n",
       "      <th></th>\n",
       "      <th>Мetrics</th>\n",
       "      <th>RF not balanced</th>\n",
       "      <th>LR not balanced</th>\n",
       "    </tr>\n",
       "  </thead>\n",
       "  <tbody>\n",
       "    <tr>\n",
       "      <th>0</th>\n",
       "      <td>Полнота</td>\n",
       "      <td>0.490566</td>\n",
       "      <td>0.226415</td>\n",
       "    </tr>\n",
       "    <tr>\n",
       "      <th>1</th>\n",
       "      <td>Точность</td>\n",
       "      <td>0.725100</td>\n",
       "      <td>0.531646</td>\n",
       "    </tr>\n",
       "    <tr>\n",
       "      <th>2</th>\n",
       "      <td>F1 - мера</td>\n",
       "      <td>0.585209</td>\n",
       "      <td>0.317580</td>\n",
       "    </tr>\n",
       "    <tr>\n",
       "      <th>3</th>\n",
       "      <td>AUC - ROC</td>\n",
       "      <td>0.836062</td>\n",
       "      <td>0.757632</td>\n",
       "    </tr>\n",
       "  </tbody>\n",
       "</table>\n",
       "</div>"
      ],
      "text/plain": [
       "     Мetrics  RF not balanced  LR not balanced\n",
       "0    Полнота         0.490566         0.226415\n",
       "1   Точность         0.725100         0.531646\n",
       "2  F1 - мера         0.585209         0.317580\n",
       "3  AUC - ROC         0.836062         0.757632"
      ]
     },
     "execution_count": 106,
     "metadata": {},
     "output_type": "execute_result"
    }
   ],
   "source": [
    "#Взглянем на метрики обученных моделей. Сравним их после исправления дисбаланса классов.\n",
    "RFC_recall_before = recall_score(target_valid, RFC_pred)\n",
    "RFC_precision_before = precision_score(target_valid, RFC_pred)\n",
    "RFC_f1_before = f1_score(target_valid, RFC_pred)\n",
    "\n",
    "LR_recall_before = recall_score(target_valid, LR_pred)\n",
    "LR_precision_before = precision_score(target_valid, LR_pred)\n",
    "LR_f1_before = f1_score(target_valid, LR_pred)\n",
    "\n",
    "\n",
    "RFC_metrics_before = [RFC_recall_before, RFC_precision_before, RFC_f1_before, RFC_auc_roc_before]\n",
    "LR_metrics_before = [LR_recall_before, LR_precision_before, LR_f1_before, LR_auc_roc_before]\n",
    "names = ['Полнота', 'Точность', 'F1 - мера', 'AUC - ROC']\n",
    "\n",
    "metrics = pd.DataFrame(\n",
    "    {'Мetrics': names,\n",
    "     'RF not balanced': RFC_metrics_before,\n",
    "     'LR not balanced': LR_metrics_before,\n",
    "\n",
    "    })\n",
    "\n",
    "metrics\n",
    "#Видим, что из всех метрик страдает больше всего полнота, поскольку модели плохо обучены определять положительный класс."
   ]
  },
  {
   "cell_type": "markdown",
   "metadata": {},
   "source": [
    "## Борьба с дисбалансом"
   ]
  },
  {
   "cell_type": "code",
   "execution_count": 28,
   "metadata": {},
   "outputs": [
    {
     "name": "stdout",
     "output_type": "stream",
     "text": [
      "Размер исходного тренировочного набора данных: 5454, доля 1: 20.39, доля 0: 79.61\n",
      "Размер увеличенного тренировочного набора данных: 8790, доля 1: 50.6, доля 0: 49.4\n"
     ]
    }
   ],
   "source": [
    "#Увеличение размера выборки\n",
    "#Соотношение положительных и отрицательных классов в таргете примерно 1:4. \n",
    "#Напишем функцию, которая увеличит количество признаков положительного класса, и перемешает их.\n",
    "def upsample(features, target, repeat):\n",
    "    features_zeros = features[target == 0]\n",
    "    features_ones = features[target == 1]\n",
    "    target_zeros = target[target == 0]\n",
    "    target_ones = target[target == 1]\n",
    "\n",
    "    features_upsampled = pd.concat([features_zeros] + [features_ones] * repeat)\n",
    "    target_upsampled = pd.concat([target_zeros] + [target_ones] * repeat)\n",
    "    \n",
    "    features_upsampled, target_upsampled = shuffle(\n",
    "        features_upsampled, target_upsampled, random_state=42)\n",
    "    \n",
    "    return features_upsampled, target_upsampled\n",
    "\n",
    "#Увеличим количество признаков положительных классов и самих полодительных классво в 4 раза:\n",
    "features_upsampled, target_upsampled = upsample(features_train, target_train, 4)\n",
    "\n",
    "#Проверим как изменилось соотношение классов в таргете:\n",
    "ones = round(len(target_upsampled[target_upsampled == 1])/len(target_upsampled)*100, 2)\n",
    "zeros = round(len(target_upsampled[target_upsampled == 0])/len(target_upsampled)*100, 2)\n",
    "\n",
    "print(f'Размер исходного тренировочного набора данных: {len(features_train)}, доля 1: {ones_train}, доля 0: {zeros_train}')\n",
    "print(f'Размер увеличенного тренировочного набора данных: {len(features_upsampled)}, доля 1: {ones}, доля 0: {zeros}')"
   ]
  },
  {
   "cell_type": "code",
   "execution_count": 29,
   "metadata": {},
   "outputs": [
    {
     "name": "stdout",
     "output_type": "stream",
     "text": [
      "Размер исходного тренировочного набора данных: 5454, доля 1: 20.39, доля 0: 79.61\n",
      "Размер уменьшенного тренировочного набора данных: 2198, доля 1: 50.59, доля 0: 49.41\n"
     ]
    }
   ],
   "source": [
    "#Уменьшение размера выборки\n",
    "def downsample(features, target, fraction):\n",
    "    features_zeros = features[target == 0]\n",
    "    features_ones = features[target == 1]\n",
    "    target_zeros = target[target == 0]\n",
    "    target_ones = target[target == 1]\n",
    "\n",
    "    features_downsampled = pd.concat(\n",
    "        [features_zeros.sample(frac=fraction, random_state=42)] + [features_ones])\n",
    "    target_downsampled = pd.concat(\n",
    "        [target_zeros.sample(frac=fraction, random_state=42)] + [target_ones])\n",
    "    \n",
    "    features_downsampled, target_downsampled = shuffle(\n",
    "        features_downsampled, target_downsampled, random_state=42)\n",
    "    \n",
    "    return features_downsampled, target_downsampled\n",
    "\n",
    "#Уменьшим количество признаков отрицаьельных классов и самих полодотрицательных классов в 4 раза:\n",
    "features_downsampled, target_downsampled = downsample(features_train, target_train, 0.25)\n",
    "\n",
    "#Проверим как изменилось соотношение классов в таргете:\n",
    "ones = round(len(target_downsampled[target_downsampled == 1])/len(target_downsampled)*100, 2)\n",
    "zeros = round(len(target_downsampled[target_downsampled == 0])/len(target_downsampled)*100, 2)\n",
    "\n",
    "print(f'Размер исходного тренировочного набора данных: {len(features_train)}, доля 1: {ones_train}, доля 0: {zeros_train}')\n",
    "print(f'Размер уменьшенного тренировочного набора данных: {len(features_downsampled)}, доля 1: {ones}, доля 0: {zeros}')"
   ]
  },
  {
   "cell_type": "markdown",
   "metadata": {},
   "source": [
    "## Исследование моделей на сбалансированной выборке"
   ]
  },
  {
   "cell_type": "markdown",
   "metadata": {},
   "source": [
    "### Подбор новых гиперпараметров и проверка метрик качества модели на upsampled - обучающей выборке"
   ]
  },
  {
   "cell_type": "markdown",
   "metadata": {},
   "source": [
    "#### Логистическая регрессия"
   ]
  },
  {
   "cell_type": "code",
   "execution_count": 80,
   "metadata": {},
   "outputs": [
    {
     "name": "stdout",
     "output_type": "stream",
     "text": [
      "Лучшее качество модели: 0.4781783681214421, Accuracy при этом - 0.6976360637713029, соответствующее количество итераций: 100\n",
      "CPU times: total: 4.69 s\n",
      "Wall time: 5.02 s\n"
     ]
    }
   ],
   "source": [
    "%%time\n",
    "best_iter = 0\n",
    "accuracy_log = 0\n",
    "best_f1_log = 0\n",
    "\n",
    "for iter in range(100,200):\n",
    "    LR_model_up = LogisticRegression(solver = 'liblinear', random_state=42, max_iter=iter)\n",
    "    LR_model_up.fit(features_upsampled, target_upsampled)\n",
    "    LR_predictions_up = LR_model_up.predict(features_valid)\n",
    "    accuracy = accuracy_score(target_valid, LR_predictions_up)\n",
    "    f1 = f1_score(target_valid, LR_predictions_up)\n",
    "    if f1 > best_f1_log:\n",
    "        best_f1_log = f1 \n",
    "        best_iter = iter\n",
    "        accuracy_log = accuracy\n",
    "    #print(f' F1 - score = {f1}, Accuracy = {accuracy}, iter = {iter}')\n",
    "print(f'Лучшее качество модели: {best_f1_log}, Accuracy при этом - {accuracy_log}, соответствующее количество итераций: {best_iter}')"
   ]
  },
  {
   "cell_type": "code",
   "execution_count": 93,
   "metadata": {},
   "outputs": [
    {
     "data": {
      "text/plain": [
       "LogisticRegression(random_state=42, solver='liblinear')"
      ]
     },
     "execution_count": 93,
     "metadata": {},
     "output_type": "execute_result"
    }
   ],
   "source": [
    "LR_model_up = LogisticRegression(solver = 'liblinear', random_state=42, max_iter=100)\n",
    "LR_model_up.fit(features_upsampled, target_upsampled)"
   ]
  },
  {
   "cell_type": "code",
   "execution_count": 44,
   "metadata": {},
   "outputs": [
    {
     "data": {
      "text/plain": [
       "array([[1302,  146],\n",
       "       [ 149,  222]], dtype=int64)"
      ]
     },
     "execution_count": 44,
     "metadata": {},
     "output_type": "execute_result"
    }
   ],
   "source": [
    "#Качество модели заметно улучшилось, но все равно еще не достаточно высокое. Взгянем как изменилась confusion matrix\n",
    "confusion_matrix(target_valid, LR_predictions_up)\n",
    "#Число ложнонегативных прогнозов стало меньше, но при этом стало больше ложнополодительных ответов. \n",
    "#Поулчается модель будет чаще предсказывать уход клиента из банка и ошибаться в трети случаев."
   ]
  },
  {
   "cell_type": "markdown",
   "metadata": {},
   "source": [
    "#### Случайный лес"
   ]
  },
  {
   "cell_type": "code",
   "execution_count": 81,
   "metadata": {},
   "outputs": [
    {
     "name": "stdout",
     "output_type": "stream",
     "text": [
      "Точность модели - 0.6043956043956044, accuracy при этом - 0.8411214953271028, соответствующая глубина 15\n",
      "Точность модели - 0.610583446404342,  Accuracy при этом - 0.8422210005497526, соответствующее ей количество деревьев 75\n",
      "CPU times: total: 2min 9s\n",
      "Wall time: 2min 14s\n"
     ]
    }
   ],
   "source": [
    "%%time\n",
    "best_estim_forest = 0\n",
    "best_depth_forest = 0\n",
    "accuracy_forest = 0\n",
    "best_f1_forest = 0\n",
    "\n",
    "for depth in range(1, 51):\n",
    "    RFC_model_up = RandomForestClassifier(random_state=42, max_depth = depth, n_estimators=50)\n",
    "    RFC_model_up.fit(features_upsampled, target_upsampled)\n",
    "    RFC_predictions_up = RFC_model_up.predict(features_valid)\n",
    "    accuracy = accuracy_score(target_valid, RFC_predictions_up)\n",
    "    f1 = f1_score(target_valid, RFC_predictions_up)\n",
    "    if f1 > best_f1_forest:\n",
    "        best_f1_forest = f1\n",
    "        accuracy_forest = accuracy\n",
    "        best_depth_forest = depth\n",
    "print(f'Точность модели - {best_f1_forest}, accuracy при этом - {accuracy}, соответствующая глубина {best_depth_forest}')\n",
    "\n",
    "for est in range(1, 100):\n",
    "    RFC_model_up = RandomForestClassifier(random_state=42, max_depth = 15, n_estimators=est)\n",
    "    RFC_model_up.fit(features_upsampled, target_upsampled)\n",
    "    RFC_predictions_up = RFC_model_up.predict(features_valid)\n",
    "    accuracy = accuracy_score(target_valid, RFC_predictions_up)\n",
    "    f1 = f1_score(target_valid, RFC_predictions_up)\n",
    "    if f1 > best_f1_forest:\n",
    "        best_f1_forest = f1\n",
    "        accuracy_forest = accuracy\n",
    "        best_estim_forest = est\n",
    "#    print(f'F1 = {f1}, Accuracy = {accuracy}, est = {est}')\n",
    "\n",
    "print(f'Точность модели - {best_f1_forest},  Accuracy при этом - {accuracy_forest}, соответствующее ей количество деревьев {best_estim_forest}')"
   ]
  },
  {
   "cell_type": "code",
   "execution_count": 94,
   "metadata": {},
   "outputs": [
    {
     "data": {
      "text/plain": [
       "RandomForestClassifier(max_depth=15, n_estimators=75, random_state=42)"
      ]
     },
     "execution_count": 94,
     "metadata": {},
     "output_type": "execute_result"
    }
   ],
   "source": [
    "RFC_model_up = RandomForestClassifier(random_state=42, max_depth = 15, n_estimators=75)\n",
    "RFC_model_up.fit(features_upsampled, target_upsampled)"
   ]
  },
  {
   "cell_type": "code",
   "execution_count": 49,
   "metadata": {},
   "outputs": [
    {
     "data": {
      "text/plain": [
       "array([[1305,  143],\n",
       "       [ 153,  218]], dtype=int64)"
      ]
     },
     "execution_count": 49,
     "metadata": {},
     "output_type": "execute_result"
    }
   ],
   "source": [
    "#Качество модели заметно улучшилось, но все равно еще не достаточно высокое. Взгянем как изменилась confusion matrix\n",
    "confusion_matrix(target_valid, RFC_predictions_up)\n",
    "#Стало больше ложноположительных ответов. Число ложноотрицательных несколько снизилось."
   ]
  },
  {
   "cell_type": "markdown",
   "metadata": {},
   "source": [
    "### Подбор новых гиперпараметров и проверка метрик качества модели на downsampled - обучающей выборке"
   ]
  },
  {
   "cell_type": "markdown",
   "metadata": {},
   "source": [
    "#### Логистическая регрессия"
   ]
  },
  {
   "cell_type": "code",
   "execution_count": 82,
   "metadata": {},
   "outputs": [
    {
     "name": "stdout",
     "output_type": "stream",
     "text": [
      "Лучшее качество модели: 0.48808388941849384, Accuracy при этом - 0.7047828477185266, соответствующее количество итераций: 100\n",
      "CPU times: total: 1.31 s\n",
      "Wall time: 1.33 s\n"
     ]
    }
   ],
   "source": [
    "%%time\n",
    "best_iter = 0\n",
    "accuracy_log = 0\n",
    "best_f1_log = 0\n",
    "\n",
    "for iter in range(100,200):\n",
    "    LR_model_down = LogisticRegression(solver = 'liblinear', random_state=42, max_iter=iter)\n",
    "    LR_model_down.fit(features_downsampled, target_downsampled)\n",
    "    LR_predictions_down = LR_model_down.predict(features_valid)\n",
    "    accuracy = accuracy_score(target_valid, LR_predictions_down)\n",
    "    f1 = f1_score(target_valid, LR_predictions_down)\n",
    "    if f1 > best_f1_log:\n",
    "        best_f1_log = f1 \n",
    "        best_iter = iter\n",
    "        accuracy_log = accuracy\n",
    "    #print(f' F1 - score = {f1}, Accuracy = {accuracy}, iter = {iter}')\n",
    "print(f'Лучшее качество модели: {best_f1_log}, Accuracy при этом - {accuracy_log}, соответствующее количество итераций: {best_iter}')"
   ]
  },
  {
   "cell_type": "code",
   "execution_count": 95,
   "metadata": {},
   "outputs": [
    {
     "data": {
      "text/plain": [
       "LogisticRegression(random_state=42, solver='liblinear')"
      ]
     },
     "execution_count": 95,
     "metadata": {},
     "output_type": "execute_result"
    }
   ],
   "source": [
    "LR_model_down = LogisticRegression(solver = 'liblinear', random_state=42, max_iter=100)\n",
    "LR_model_down.fit(features_downsampled, target_downsampled)   "
   ]
  },
  {
   "cell_type": "code",
   "execution_count": 53,
   "metadata": {},
   "outputs": [
    {
     "data": {
      "text/plain": [
       "array([[1026,  422],\n",
       "       [ 115,  256]], dtype=int64)"
      ]
     },
     "execution_count": 53,
     "metadata": {},
     "output_type": "execute_result"
    }
   ],
   "source": [
    "confusion_matrix(target_valid, LR_predictions_down)\n",
    "#Ситуация примерно такая же, что и в upsampled"
   ]
  },
  {
   "cell_type": "markdown",
   "metadata": {},
   "source": [
    "#### Случайный лес"
   ]
  },
  {
   "cell_type": "code",
   "execution_count": 83,
   "metadata": {},
   "outputs": [
    {
     "name": "stdout",
     "output_type": "stream",
     "text": [
      "Точность модели - 0.5950413223140496, accuracy при этом - 0.7696536558548653, соответствующая глубина 12\n",
      "Точность модели - 0.6159695817490495,  Accuracy при этом - 0.8334249587685542, соответствующее ей количество деревьев 25\n",
      "CPU times: total: 2min 3s\n",
      "Wall time: 2min 3s\n"
     ]
    }
   ],
   "source": [
    "%%time\n",
    "best_estim_forest = 0\n",
    "best_depth_forest = 0\n",
    "accuracy_forest = 0\n",
    "best_f1_forest = 0\n",
    "\n",
    "for depth in range(1, 51):\n",
    "    RFC_model_down = RandomForestClassifier(random_state=42, max_depth = depth, n_estimators=50)\n",
    "    RFC_model_down.fit(features_downsampled, target_downsampled)\n",
    "    RFC_predictions_down = RFC_model_down.predict(features_valid)\n",
    "    accuracy = accuracy_score(target_valid, RFC_predictions_down)\n",
    "    f1 = f1_score(target_valid, RFC_predictions_down)\n",
    "    if f1 > best_f1_forest:\n",
    "        best_f1_forest = f1\n",
    "        accuracy_forest = accuracy\n",
    "        best_depth_forest = depth\n",
    "print(f'Точность модели - {best_f1_forest}, accuracy при этом - {accuracy}, соответствующая глубина {best_depth_forest}')\n",
    "\n",
    "for est in range(1, 100):\n",
    "    RFC_model_down = RandomForestClassifier(random_state=42, max_depth = 12, n_estimators=est)\n",
    "    RFC_model_down.fit(features_upsampled, target_upsampled)\n",
    "    RFC_predictions_down = RFC_model_down.predict(features_valid)\n",
    "    accuracy = accuracy_score(target_valid, RFC_predictions_down)\n",
    "    f1 = f1_score(target_valid, RFC_predictions_down)\n",
    "    if f1 > best_f1_forest:\n",
    "        best_f1_forest = f1\n",
    "        accuracy_forest = accuracy\n",
    "        best_estim_forest = est\n",
    "#    print(f'F1 = {f1}, Accuracy = {accuracy}, est = {est}')\n",
    "\n",
    "print(f'Точность модели - {best_f1_forest},  Accuracy при этом - {accuracy_forest}, соответствующее ей количество деревьев {best_estim_forest}')"
   ]
  },
  {
   "cell_type": "code",
   "execution_count": 96,
   "metadata": {},
   "outputs": [
    {
     "data": {
      "text/plain": [
       "RandomForestClassifier(max_depth=12, n_estimators=25, random_state=42)"
      ]
     },
     "execution_count": 96,
     "metadata": {},
     "output_type": "execute_result"
    }
   ],
   "source": [
    "RFC_model_down = RandomForestClassifier(random_state=42, max_depth = 12, n_estimators=25)\n",
    "RFC_model_down.fit(features_downsampled, target_downsampled)"
   ]
  },
  {
   "cell_type": "code",
   "execution_count": 56,
   "metadata": {},
   "outputs": [
    {
     "data": {
      "text/plain": [
       "array([[1276,  172],\n",
       "       [ 137,  234]], dtype=int64)"
      ]
     },
     "execution_count": 56,
     "metadata": {},
     "output_type": "execute_result"
    }
   ],
   "source": [
    "confusion_matrix(target_valid, RFC_predictions_down)\n",
    "#Ложнополодительных ответов стало больше. Точность модели в целом не изменилась."
   ]
  },
  {
   "cell_type": "markdown",
   "metadata": {},
   "source": [
    "### Взвешаивание классов"
   ]
  },
  {
   "cell_type": "markdown",
   "metadata": {},
   "source": [
    "#### Логистическая регрессия "
   ]
  },
  {
   "cell_type": "code",
   "execution_count": 84,
   "metadata": {},
   "outputs": [
    {
     "name": "stdout",
     "output_type": "stream",
     "text": [
      "Лучшее качество модели: 0.4812319538017324, Accuracy при этом - 0.7036833424958768, соответствующее количество итераций: 100\n",
      "CPU times: total: 2.7 s\n",
      "Wall time: 2.73 s\n"
     ]
    }
   ],
   "source": [
    "%%time\n",
    "best_iter = 0\n",
    "accuracy_log = 0\n",
    "best_f1_log = 0\n",
    "\n",
    "for iter in range(100,200):\n",
    "    LR_model_cw = LogisticRegression(solver = 'liblinear', random_state=42, max_iter=iter, class_weight = 'balanced')\n",
    "    LR_model_cw.fit(features_train, target_train)\n",
    "    LR_predictions_cw = LR_model_cw.predict(features_valid)\n",
    "    accuracy = accuracy_score(target_valid, LR_predictions_cw)\n",
    "    f1 = f1_score(target_valid, LR_predictions_cw)\n",
    "    if f1 > best_f1_log:\n",
    "        best_f1_log = f1 \n",
    "        best_iter = iter\n",
    "        accuracy_log = accuracy\n",
    "    #print(f' F1 - score = {f1}, Accuracy = {accuracy}, iter = {iter}')\n",
    "print(f'Лучшее качество модели: {best_f1_log}, Accuracy при этом - {accuracy_log}, соответствующее количество итераций: {best_iter}')"
   ]
  },
  {
   "cell_type": "code",
   "execution_count": 97,
   "metadata": {},
   "outputs": [
    {
     "data": {
      "text/plain": [
       "LogisticRegression(class_weight='balanced', random_state=42, solver='liblinear')"
      ]
     },
     "execution_count": 97,
     "metadata": {},
     "output_type": "execute_result"
    }
   ],
   "source": [
    "LR_model_cw = LogisticRegression(solver = 'liblinear', random_state=42, max_iter=100, class_weight = 'balanced')\n",
    "LR_model_cw.fit(features_train, target_train)"
   ]
  },
  {
   "cell_type": "code",
   "execution_count": 60,
   "metadata": {},
   "outputs": [
    {
     "data": {
      "text/plain": [
       "array([[1030,  418],\n",
       "       [ 121,  250]], dtype=int64)"
      ]
     },
     "execution_count": 60,
     "metadata": {},
     "output_type": "execute_result"
    }
   ],
   "source": [
    "confusion_matrix(target_valid, LR_predictions_cw)\n",
    "#Никакой разницы нет. Лишь меняется число ложноположительных ответов от модели к модели. F1-мера остается +- такой же."
   ]
  },
  {
   "cell_type": "code",
   "execution_count": 110,
   "metadata": {},
   "outputs": [
    {
     "name": "stdout",
     "output_type": "stream",
     "text": [
      "Точность модели - 0.6063454759106933, accuracy при этом - 0.857064321055525, соответствующая глубина 7\n",
      "Точность модели - 0.6133960047003525,  accuracy при этом - 0.8191313908741067, соответствующее ей количество деревьев 19\n",
      "CPU times: total: 1min 7s\n",
      "Wall time: 1min 8s\n"
     ]
    }
   ],
   "source": [
    "%%time\n",
    "best_estim_forest = 0\n",
    "best_depth_forest = 0\n",
    "accuracy_forest = 0\n",
    "best_f1_forest = 0\n",
    "\n",
    "for depth in range(1, 51):\n",
    "    RFC_model_cw = RandomForestClassifier(random_state=42, max_depth = depth, n_estimators=50, class_weight = 'balanced')\n",
    "    RFC_model_cw.fit(features_train, target_train)\n",
    "    RFC_predictions_cw = RFC_model_cw.predict(features_valid)\n",
    "    accuracy = accuracy_score(target_valid, RFC_predictions_cw)\n",
    "    f1 = f1_score(target_valid, RFC_predictions_cw)\n",
    "    if f1 > best_f1_forest:\n",
    "        best_f1_forest = f1\n",
    "        accuracy_forest = accuracy\n",
    "        best_depth_forest = depth\n",
    "print(f'Точность модели - {best_f1_forest}, accuracy при этом - {accuracy}, соответствующая глубина {best_depth_forest}')\n",
    "\n",
    "for est in range(1, 100):\n",
    "    RFC_model_cw = RandomForestClassifier(random_state=42, max_depth = 7, n_estimators=est, class_weight = 'balanced')\n",
    "    RFC_model_cw.fit(features_train, target_train)\n",
    "    RFC_predictions_cw = RFC_model_cw.predict(features_valid)\n",
    "    accuracy = accuracy_score(target_valid, RFC_predictions_cw)\n",
    "    f1 = f1_score(target_valid, RFC_predictions_cw)\n",
    "    if f1 > best_f1_forest:\n",
    "        best_f1_forest = f1\n",
    "        accuracy_forest = accuracy\n",
    "        best_estim_forest = est\n",
    "#    print(f'F1 = {f1}, Accuracy = {accuracy}, est = {est}')\n",
    "\n",
    "print(f'Точность модели - {best_f1_forest},  accuracy при этом - {accuracy_forest}, соответствующее ей количество деревьев {best_estim_forest}')"
   ]
  },
  {
   "cell_type": "code",
   "execution_count": 118,
   "metadata": {},
   "outputs": [
    {
     "data": {
      "text/plain": [
       "RandomForestClassifier(class_weight='balanced', max_depth=7, n_estimators=19,\n",
       "                       random_state=42)"
      ]
     },
     "execution_count": 118,
     "metadata": {},
     "output_type": "execute_result"
    }
   ],
   "source": [
    "RFC_model_cw = RandomForestClassifier(random_state=42, max_depth = 7, n_estimators = 19, class_weight = 'balanced')\n",
    "RFC_model_cw.fit(features_train, target_train)"
   ]
  },
  {
   "cell_type": "code",
   "execution_count": 79,
   "metadata": {},
   "outputs": [
    {
     "data": {
      "text/plain": [
       "array([[1219,  229],\n",
       "       [ 115,  256]], dtype=int64)"
      ]
     },
     "execution_count": 79,
     "metadata": {},
     "output_type": "execute_result"
    }
   ],
   "source": [
    "confusion_matrix(target_valid, RFC_predictions_cw)"
   ]
  },
  {
   "cell_type": "code",
   "execution_count": 119,
   "metadata": {},
   "outputs": [],
   "source": [
    "#Сравним метрики\n",
    "#Метрики при upsampling\n",
    "RFC_recall_up = recall_score(target_valid, RFC_predictions_up)\n",
    "RFC_precision_up = precision_score(target_valid, RFC_predictions_up)\n",
    "RFC_f1_up = f1_score(target_valid, RFC_predictions_up)\n",
    "RFC_roc_auc_up = roc_auc_score(target_valid, RFC_model_up.predict_proba(features_valid)[:, 1])\n",
    "\n",
    "LR_recall_up = recall_score(target_valid, LR_predictions_up)\n",
    "LR_precision_up = precision_score(target_valid, LR_predictions_up)\n",
    "LR_f1_up = f1_score(target_valid, LR_predictions_up)\n",
    "LR_roc_auc_up = roc_auc_score(target_valid, LR_model_up.predict_proba(features_valid)[:, 1])\n",
    "\n",
    "\n",
    "RFC_metrics_up = [RFC_recall_up, RFC_precision_up, RFC_f1_up, RFC_roc_auc_up]\n",
    "LR_metrics_up = [LR_recall_up, LR_precision_up, LR_f1_up, LR_roc_auc_up]\n",
    "\n",
    "#Метрики при downsampling\n",
    "RFC_recall_down = recall_score(target_valid, RFC_predictions_down)\n",
    "RFC_precision_down = precision_score(target_valid, RFC_predictions_down)\n",
    "RFC_f1_down = f1_score(target_valid, RFC_predictions_down)\n",
    "RFC_roc_auc_down = roc_auc_score(target_valid, RFC_model_down.predict_proba(features_valid)[:, 1])\n",
    "\n",
    "LR_recall_down = recall_score(target_valid, LR_predictions_down)\n",
    "LR_precision_down = precision_score(target_valid, LR_predictions_down)\n",
    "LR_f1_down = f1_score(target_valid, LR_predictions_down)\n",
    "LR_roc_auc_down = roc_auc_score(target_valid, LR_model_down.predict_proba(features_valid)[:, 1])\n",
    "\n",
    "\n",
    "RFC_metrics_down = [RFC_recall_down, RFC_precision_down, RFC_f1_down, RFC_roc_auc_down]\n",
    "LR_metrics_down = [LR_recall_down, LR_precision_down, LR_f1_down, LR_roc_auc_down]\n",
    "\n",
    "#Метрики при взвешивании классов\n",
    "RFC_recall_cw = recall_score(target_valid, RFC_predictions_cw)\n",
    "RFC_precision_cw = precision_score(target_valid, RFC_predictions_cw)\n",
    "RFC_f1_cw = f1_score(target_valid, RFC_predictions_cw)\n",
    "RFC_roc_auc_cw = roc_auc_score(target_valid, RFC_model_cw.predict_proba(features_valid)[:, 1])\n",
    "\n",
    "\n",
    "LR_recall_cw = recall_score(target_valid, LR_predictions_cw)\n",
    "LR_precision_cw = precision_score(target_valid, LR_predictions_cw)\n",
    "LR_f1_cw = f1_score(target_valid, LR_predictions_cw)\n",
    "LR_roc_auc_cw = roc_auc_score(target_valid, LR_model_cw.predict_proba(features_valid)[:, 1])\n",
    "\n",
    "\n",
    "RFC_metrics_cw = [RFC_recall_cw, RFC_precision_cw, RFC_f1_cw, RFC_roc_auc_cw]\n",
    "LR_metrics_cw = [LR_recall_cw, LR_precision_cw, LR_f1_cw, LR_roc_auc_cw]\n",
    "\n",
    "\n",
    "names = ['Полнота', 'Точность', 'F1 - мера', 'AUC - ROC']\n",
    "\n",
    "metrics_RFC = pd.DataFrame(\n",
    "    {'Мetrics': names,\n",
    "     'RF not balanced': RFC_metrics_before,\n",
    "     'RF upsampled': RFC_metrics_up,\n",
    "     'RF downsampled': RFC_metrics_down,\n",
    "     'RF class_weight': RFC_metrics_cw,\n",
    "\n",
    "    })\n",
    "\n",
    "metrics_LR = pd.DataFrame(\n",
    "    {'Мetrics': names,\n",
    "     'LR not balanced': LR_metrics_before,\n",
    "     'LR upsampled': LR_metrics_up,\n",
    "     'LR downsampled': LR_metrics_down,\n",
    "     'LR class_weight': LR_metrics_cw,\n",
    "\n",
    "    })\n",
    "\n"
   ]
  },
  {
   "cell_type": "code",
   "execution_count": 120,
   "metadata": {},
   "outputs": [
    {
     "data": {
      "text/html": [
       "<div>\n",
       "<style scoped>\n",
       "    .dataframe tbody tr th:only-of-type {\n",
       "        vertical-align: middle;\n",
       "    }\n",
       "\n",
       "    .dataframe tbody tr th {\n",
       "        vertical-align: top;\n",
       "    }\n",
       "\n",
       "    .dataframe thead th {\n",
       "        text-align: right;\n",
       "    }\n",
       "</style>\n",
       "<table border=\"1\" class=\"dataframe\">\n",
       "  <thead>\n",
       "    <tr style=\"text-align: right;\">\n",
       "      <th></th>\n",
       "      <th>Мetrics</th>\n",
       "      <th>RF not balanced</th>\n",
       "      <th>RF upsampled</th>\n",
       "      <th>RF downsampled</th>\n",
       "      <th>RF class_weight</th>\n",
       "    </tr>\n",
       "  </thead>\n",
       "  <tbody>\n",
       "    <tr>\n",
       "      <th>0</th>\n",
       "      <td>Полнота</td>\n",
       "      <td>0.490566</td>\n",
       "      <td>0.587601</td>\n",
       "      <td>0.630728</td>\n",
       "      <td>0.690027</td>\n",
       "    </tr>\n",
       "    <tr>\n",
       "      <th>1</th>\n",
       "      <td>Точность</td>\n",
       "      <td>0.725100</td>\n",
       "      <td>0.603878</td>\n",
       "      <td>0.576355</td>\n",
       "      <td>0.527835</td>\n",
       "    </tr>\n",
       "    <tr>\n",
       "      <th>2</th>\n",
       "      <td>F1 - мера</td>\n",
       "      <td>0.585209</td>\n",
       "      <td>0.595628</td>\n",
       "      <td>0.602317</td>\n",
       "      <td>0.598131</td>\n",
       "    </tr>\n",
       "    <tr>\n",
       "      <th>3</th>\n",
       "      <td>AUC - ROC</td>\n",
       "      <td>0.836062</td>\n",
       "      <td>0.846446</td>\n",
       "      <td>0.840986</td>\n",
       "      <td>0.852538</td>\n",
       "    </tr>\n",
       "  </tbody>\n",
       "</table>\n",
       "</div>"
      ],
      "text/plain": [
       "     Мetrics  RF not balanced  RF upsampled  RF downsampled  RF class_weight\n",
       "0    Полнота         0.490566      0.587601        0.630728         0.690027\n",
       "1   Точность         0.725100      0.603878        0.576355         0.527835\n",
       "2  F1 - мера         0.585209      0.595628        0.602317         0.598131\n",
       "3  AUC - ROC         0.836062      0.846446        0.840986         0.852538"
      ]
     },
     "execution_count": 120,
     "metadata": {},
     "output_type": "execute_result"
    }
   ],
   "source": [
    "#Сравнение метрик случайного леса\n",
    "metrics_RFC"
   ]
  },
  {
   "cell_type": "code",
   "execution_count": 121,
   "metadata": {},
   "outputs": [
    {
     "data": {
      "text/html": [
       "<div>\n",
       "<style scoped>\n",
       "    .dataframe tbody tr th:only-of-type {\n",
       "        vertical-align: middle;\n",
       "    }\n",
       "\n",
       "    .dataframe tbody tr th {\n",
       "        vertical-align: top;\n",
       "    }\n",
       "\n",
       "    .dataframe thead th {\n",
       "        text-align: right;\n",
       "    }\n",
       "</style>\n",
       "<table border=\"1\" class=\"dataframe\">\n",
       "  <thead>\n",
       "    <tr style=\"text-align: right;\">\n",
       "      <th></th>\n",
       "      <th>Мetrics</th>\n",
       "      <th>LR not balanced</th>\n",
       "      <th>LR upsampled</th>\n",
       "      <th>LR downsampled</th>\n",
       "      <th>LR class_weight</th>\n",
       "    </tr>\n",
       "  </thead>\n",
       "  <tbody>\n",
       "    <tr>\n",
       "      <th>0</th>\n",
       "      <td>Полнота</td>\n",
       "      <td>0.226415</td>\n",
       "      <td>0.679245</td>\n",
       "      <td>0.690027</td>\n",
       "      <td>0.673854</td>\n",
       "    </tr>\n",
       "    <tr>\n",
       "      <th>1</th>\n",
       "      <td>Точность</td>\n",
       "      <td>0.531646</td>\n",
       "      <td>0.368960</td>\n",
       "      <td>0.377581</td>\n",
       "      <td>0.374251</td>\n",
       "    </tr>\n",
       "    <tr>\n",
       "      <th>2</th>\n",
       "      <td>F1 - мера</td>\n",
       "      <td>0.317580</td>\n",
       "      <td>0.478178</td>\n",
       "      <td>0.488084</td>\n",
       "      <td>0.481232</td>\n",
       "    </tr>\n",
       "    <tr>\n",
       "      <th>3</th>\n",
       "      <td>AUC - ROC</td>\n",
       "      <td>0.757632</td>\n",
       "      <td>0.760743</td>\n",
       "      <td>0.763233</td>\n",
       "      <td>0.760709</td>\n",
       "    </tr>\n",
       "  </tbody>\n",
       "</table>\n",
       "</div>"
      ],
      "text/plain": [
       "     Мetrics  LR not balanced  LR upsampled  LR downsampled  LR class_weight\n",
       "0    Полнота         0.226415      0.679245        0.690027         0.673854\n",
       "1   Точность         0.531646      0.368960        0.377581         0.374251\n",
       "2  F1 - мера         0.317580      0.478178        0.488084         0.481232\n",
       "3  AUC - ROC         0.757632      0.760743        0.763233         0.760709"
      ]
     },
     "execution_count": 121,
     "metadata": {},
     "output_type": "execute_result"
    }
   ],
   "source": [
    "#Сравнение метрик логистической регрессии\n",
    "metrics_LR"
   ]
  },
  {
   "cell_type": "markdown",
   "metadata": {},
   "source": [
    "Лучше всего себя показывает модель случайного леса. \n",
    "\n",
    "При балансировке целевой переменной, у логистической регрессиия значительно выросла полтота, но точость при этом снизилась. У случайного леса - наоборот, снилилась точность, но полнота выросла. \n",
    "\n",
    "Результаты, конечно, далеки от идеала. Буда рад, если ты объяснишь в чем проблема. Потому что гиперпараметры перебраны, при этом точность самая высокая в несбалансированной выборке. На мой взгляд этот вариант лучше, посколько в половине случаев (**полнота - 0,49**) модель будет предсказывать уход клиента из банка, и в 70% случаев будет права (**точность - 0,73**). Разумеется, если я правильно интерпритирую эти метрики. \n",
    "\n",
    "Но тем не менее - задача достичь нужного уровня F1 выполнена. Возьму на тест модель случайного леса со взвешанными классами целевой переменной. Построим ниже ROC кривую для нее и протестируем на тестовой выборке.\n"
   ]
  },
  {
   "cell_type": "code",
   "execution_count": 124,
   "metadata": {},
   "outputs": [
    {
     "data": {
      "image/png": "[encoded data removed]",
      "text/plain": [
       "<Figure size 1440x576 with 1 Axes>"
      ]
     },
     "metadata": {
      "needs_background": "light"
     },
     "output_type": "display_data"
    }
   ],
   "source": [
    "#ROC - кривая случайного леса\n",
    "fpr, tpr, thresholds = roc_curve(target_valid, RFC_model_cw.predict_proba(features_valid)[:, 1]) \n",
    "\n",
    "plt.figure(figsize=(20,8))\n",
    "plt.plot(fpr, tpr)\n",
    "plt.plot([0, 1], [0, 1], linestyle='--')\n",
    "plt.xlim([0.0, 1.0])\n",
    "plt.ylim([0.0, 1.0])\n",
    "plt.xlabel('False Positive Rate')\n",
    "plt.ylabel('True Positive Rate')\n",
    "plt.title('ROC-кривая модели случайного леса со взвешенными классами')\n",
    "plt.show()"
   ]
  },
  {
   "cell_type": "code",
   "execution_count": 126,
   "metadata": {},
   "outputs": [
    {
     "data": {
      "text/plain": [
       "0.7566635682711884"
      ]
     },
     "execution_count": 126,
     "metadata": {},
     "output_type": "execute_result"
    }
   ],
   "source": [
    "#Расчитаем метрику ROC_AUC для логистической регрессии\n",
    "LR_prob_ones_upsampled = LR.predict_proba(features_test)[:, 1]\n",
    "LR_auc_roc_after = roc_auc_score(target_test, LR_prob_ones_upsampled)\n",
    "LR_auc_roc_after"
   ]
  },
  {
   "cell_type": "code",
   "execution_count": 127,
   "metadata": {},
   "outputs": [
    {
     "data": {
      "image/png": "[encoded data removed]",
      "text/plain": [
       "<Figure size 1440x576 with 1 Axes>"
      ]
     },
     "metadata": {
      "needs_background": "light"
     },
     "output_type": "display_data"
    }
   ],
   "source": [
    "#ROC - кривая логистической регрессии\n",
    "fpr, tpr, thresholds = roc_curve(target_test, LR_prob_ones_upsampled) \n",
    "\n",
    "plt.figure(figsize=(20,8))\n",
    "plt.plot(fpr, tpr)\n",
    "plt.plot([0, 1], [0, 1], linestyle='--')\n",
    "plt.xlim([0.0, 1.0])\n",
    "plt.ylim([0.0, 1.0])\n",
    "plt.xlabel('False Positive Rate')\n",
    "plt.ylabel('True Positive Rate')\n",
    "plt.title('ROC-кривая логистической регресии')\n",
    "plt.show()"
   ]
  },
  {
   "cell_type": "markdown",
   "metadata": {},
   "source": [
    "# Тестирование лучшей модели"
   ]
  },
  {
   "cell_type": "code",
   "execution_count": 130,
   "metadata": {},
   "outputs": [],
   "source": [
    "#Добавим модели данных для обучения - соединим тренировочную и валидационную выборки\n",
    "RFC_model_cw.fit(pd.concat([features_train, features_valid], axis = 0), \n",
    "                 pd.concat([target_train, target_valid], axis = 0))\n",
    "RFC_test_predictions = RFC_model_cw.predict(features_test)"
   ]
  },
  {
   "cell_type": "code",
   "execution_count": 132,
   "metadata": {},
   "outputs": [
    {
     "data": {
      "text/html": [
       "<div>\n",
       "<style scoped>\n",
       "    .dataframe tbody tr th:only-of-type {\n",
       "        vertical-align: middle;\n",
       "    }\n",
       "\n",
       "    .dataframe tbody tr th {\n",
       "        vertical-align: top;\n",
       "    }\n",
       "\n",
       "    .dataframe thead th {\n",
       "        text-align: right;\n",
       "    }\n",
       "</style>\n",
       "<table border=\"1\" class=\"dataframe\">\n",
       "  <thead>\n",
       "    <tr style=\"text-align: right;\">\n",
       "      <th></th>\n",
       "      <th>Мetrics</th>\n",
       "      <th>RF test</th>\n",
       "    </tr>\n",
       "  </thead>\n",
       "  <tbody>\n",
       "    <tr>\n",
       "      <th>0</th>\n",
       "      <td>Полнота</td>\n",
       "      <td>0.671159</td>\n",
       "    </tr>\n",
       "    <tr>\n",
       "      <th>1</th>\n",
       "      <td>Точность</td>\n",
       "      <td>0.536638</td>\n",
       "    </tr>\n",
       "    <tr>\n",
       "      <th>2</th>\n",
       "      <td>F1 - мера</td>\n",
       "      <td>0.596407</td>\n",
       "    </tr>\n",
       "    <tr>\n",
       "      <th>3</th>\n",
       "      <td>AUC - ROC</td>\n",
       "      <td>0.848812</td>\n",
       "    </tr>\n",
       "  </tbody>\n",
       "</table>\n",
       "</div>"
      ],
      "text/plain": [
       "     Мetrics   RF test\n",
       "0    Полнота  0.671159\n",
       "1   Точность  0.536638\n",
       "2  F1 - мера  0.596407\n",
       "3  AUC - ROC  0.848812"
      ]
     },
     "execution_count": 132,
     "metadata": {},
     "output_type": "execute_result"
    }
   ],
   "source": [
    "RFC_recall_test = recall_score(target_test, RFC_test_predictions)\n",
    "RFC_precision_test = precision_score(target_test, RFC_test_predictions)\n",
    "RFC_f1_test = f1_score(target_test, RFC_test_predictions)\n",
    "RFC_roc_auc_test = roc_auc_score(target_test, RFC_model_cw.predict_proba(features_test)[:, 1])\n",
    "\n",
    "RFC_metrics_test = [RFC_recall_test, RFC_precision_test, RFC_f1_test, RFC_roc_auc_test]\n",
    "\n",
    "names = ['Полнота', 'Точность', 'F1 - мера', 'AUC - ROC']\n",
    "\n",
    "metrics_RFC = pd.DataFrame(\n",
    "    {'Мetrics': names,\n",
    "     'RF test': RFC_metrics_test\n",
    "\n",
    "    })\n",
    "\n",
    "metrics_RFC"
   ]
  },
  {
   "cell_type": "markdown",
   "metadata": {},
   "source": [
    "# Выводы\n",
    "\n",
    "Данные проанализированы. \n",
    "В исходном наборе наблюдается большой разброс числовых переменных. С разбросим справились, приведя все численные переменные к одноу масштабу. Категориальные переменные закодировали методом OHE.\n",
    "\n",
    "Были проверены модели логистической регрессии и случайного леса на выборке с исходным сотношением целевой переменной и со сбалансированной целевой переменной, причем \"балансировка\" была выполнена тремя методами:\n",
    "* 1. Увtличение выборки\n",
    "* 2. Уменьшение выборки\n",
    "* 3. Взвешивание классов\n",
    "\n",
    "Лучше всего (¯\\_(ツ)_/¯) себя показала модель случайного леса со \"взвешенными\" классами. Метрики модели далеки от идеала. Модель предскажет уход клиента почти в 70% случаев, но права будет всего лишь в половине случаев. С точки зрения прогнозирования - kal, но для т.н. \"Бета - банка\" такая модель позволит обращать внимание на клиентов, готовых уйти от них. Скорее - всего в половине случаев это будет не так, но зато какую заботу почувствуют те, кто не собирается уходить, но кого модель пометит как уходящего!))\n",
    "\n"
   ]
  }
 ],
 "metadata": {
  "ExecuteTimeLog": [
   {
    "duration": 1677,
    "start_time": "2023-01-28T16:35:38.361Z"
   },
   {
    "duration": 189,
    "start_time": "2023-01-28T16:35:40.040Z"
   },
   {
    "duration": 17,
    "start_time": "2023-01-28T16:35:40.230Z"
   },
   {
    "duration": 14,
    "start_time": "2023-01-28T16:35:40.249Z"
   },
   {
    "duration": 38,
    "start_time": "2023-01-28T16:35:40.265Z"
   },
   {
    "duration": 12,
    "start_time": "2023-01-28T16:35:40.305Z"
   },
   {
    "duration": 18,
    "start_time": "2023-01-28T16:35:40.319Z"
   },
   {
    "duration": 30,
    "start_time": "2023-01-28T16:35:40.338Z"
   },
   {
    "duration": 31,
    "start_time": "2023-01-28T16:35:40.369Z"
   },
   {
    "duration": 7,
    "start_time": "2023-01-28T16:35:40.402Z"
   },
   {
    "duration": 17,
    "start_time": "2023-01-28T16:35:40.410Z"
   },
   {
    "duration": 13368,
    "start_time": "2023-01-28T16:35:40.428Z"
   },
   {
    "duration": 97,
    "start_time": "2023-01-28T16:35:53.798Z"
   },
   {
    "duration": 44673,
    "start_time": "2023-01-28T16:35:53.897Z"
   },
   {
    "duration": 6,
    "start_time": "2023-01-28T16:36:38.572Z"
   },
   {
    "duration": 100,
    "start_time": "2023-01-28T16:36:38.591Z"
   },
   {
    "duration": 104,
    "start_time": "2023-01-28T16:36:38.694Z"
   },
   {
    "duration": 311,
    "start_time": "2023-01-28T16:36:38.800Z"
   },
   {
    "duration": 353,
    "start_time": "2023-01-28T16:36:39.113Z"
   },
   {
    "duration": 40,
    "start_time": "2023-01-28T16:36:39.468Z"
   },
   {
    "duration": 173,
    "start_time": "2023-01-28T16:36:39.510Z"
   },
   {
    "duration": 22,
    "start_time": "2023-01-28T16:36:39.684Z"
   },
   {
    "duration": 11,
    "start_time": "2023-01-28T16:36:39.707Z"
   },
   {
    "duration": 18,
    "start_time": "2023-01-28T16:36:39.720Z"
   },
   {
    "duration": 473,
    "start_time": "2023-01-28T16:36:39.739Z"
   },
   {
    "duration": 33,
    "start_time": "2023-01-28T16:36:40.214Z"
   },
   {
    "duration": 244,
    "start_time": "2023-01-28T16:36:40.249Z"
   },
   {
    "duration": 20,
    "start_time": "2023-01-28T16:36:40.496Z"
   },
   {
    "duration": 80,
    "start_time": "2023-01-28T16:36:40.519Z"
   },
   {
    "duration": 401,
    "start_time": "2023-01-28T16:36:40.601Z"
   },
   {
    "duration": 22,
    "start_time": "2023-01-28T16:36:41.004Z"
   }
  ],
  "celltoolbar": "Tags",
  "kernelspec": {
   "display_name": "Python 3 (ipykernel)",
   "language": "python",
   "name": "python3"
  },
  "language_info": {
   "codemirror_mode": {
    "name": "ipython",
    "version": 3
   },
   "file_extension": ".py",
   "mimetype": "text/x-python",
   "name": "python",
   "nbconvert_exporter": "python",
   "pygments_lexer": "ipython3",
   "version": "3.9.12"
  },
  "toc": {
   "base_numbering": 1,
   "nav_menu": {},
   "number_sections": true,
   "sideBar": true,
   "skip_h1_title": true,
   "title_cell": "Содержание",
   "title_sidebar": "Contents",
   "toc_cell": true,
   "toc_position": {},
   "toc_section_display": true,
   "toc_window_display": false
  }
 },
 "nbformat": 4,
 "nbformat_minor": 2
}
